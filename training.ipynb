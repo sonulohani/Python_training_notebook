{
 "nbformat": 4,
 "nbformat_minor": 2,
 "metadata": {
  "language_info": {
   "name": "python",
   "codemirror_mode": {
    "name": "ipython",
    "version": 3
   },
   "version": "3.7.4-final"
  },
  "orig_nbformat": 2,
  "file_extension": ".py",
  "mimetype": "text/x-python",
  "name": "python",
  "npconvert_exporter": "python",
  "pygments_lexer": "ipython3",
  "version": 3,
  "kernelspec": {
   "name": "python37464bitbasecondaf706bf4aaab5449bbdac8649101639c2",
   "display_name": "Python 3.7.4 64-bit ('base': conda)"
  }
 },
 "cells": [
  {
   "cell_type": "markdown",
   "execution_count": null,
   "metadata": {},
   "outputs": [],
   "source": [
    "## Class\n",
    "A class is a user-defined blueprint or prototype from which objects are created. "
   ]
  },
  {
   "cell_type": "code",
   "execution_count": null,
   "metadata": {},
   "outputs": [],
   "source": [
    "class Person:\n",
    "  def __init__(self, name, age):\n",
    "    self.name = name\n",
    "    self.age = age\n",
    "\n",
    "p1 = Person(\"John\", 36)\n",
    "\n",
    "print(p1.name)\n",
    "print(p1.age)"
   ]
  },
  {
   "cell_type": "markdown",
   "execution_count": null,
   "metadata": {},
   "outputs": [],
   "source": [
    "## The __init__() Function\n",
    "All classes have a function called __init__(), which is always executed when the class is being initiated.\n",
    "\n",
    "Use the __init__() function to assign values to object properties, or other operations that are necessary to do when the object is being created."
   ]
  },
  {
   "cell_type": "markdown",
   "execution_count": null,
   "metadata": {},
   "outputs": [],
   "source": [
    "## Class and static methods\n",
    "Class methods work the same way as regular methods, except that when invoked on an object they bind to the class of the object instead of to the object. \n",
    "\n",
    "Static methods are even simpler: they don't bind anything at all, and simply return the underlying function without any transformations."
   ]
  },
  {
   "cell_type": "code",
   "execution_count": null,
   "metadata": {},
   "outputs": [],
   "source": [
    "class D(object):\n",
    "    multiplier = 2\n",
    "    @classmethod\n",
    "    def f(cls, x):\n",
    "        return cls.multiplier * x\n",
    "    @staticmethod\n",
    "    def g(name):\n",
    "        print(\"Hello, %s\" % name)\n",
    "\n",
    "print(D.f)\n",
    "print(D.f(12))\n",
    "print(D.g)\n",
    "D.g('world')"
   ]
  },
  {
   "cell_type": "markdown",
   "execution_count": null,
   "metadata": {},
   "outputs": [],
   "source": [
    "## Class methods: alternate initializers\n",
    "Class methods present alternate ways to build instances of classes. To illustrate, let's look at an example."
   ]
  },
  {
   "cell_type": "code",
   "execution_count": null,
   "metadata": {},
   "outputs": [],
   "source": [
    "class Person(object):\n",
    "    def __init__(self, first_name, last_name, age):\n",
    "        self.first_name = first_name\n",
    "        self.last_name = last_name\n",
    "        self.age = age\n",
    "        self.full_name = first_name + \" \" + last_name\n",
    "\n",
    "    @classmethod\n",
    "    def from_full_name(cls, name, age):\n",
    "        if \" \" not in name:\n",
    "            raise ValueError\n",
    "        first_name, last_name = name.split(\" \", 2)\n",
    "        return cls(first_name, last_name, age)\n",
    "\n",
    "    def greet(self):\n",
    "        print(\"Hello, my name is \" + self.full_name + \".\")\n",
    "\n",
    "bob = Person(\"Bob\", \"Bobberson\", 42)\n",
    "alice = Person.from_full_name(\"Alice Henderson\", 31)\n",
    "bob.greet()\n",
    "alice.greet()"
   ]
  },
  {
   "cell_type": "markdown",
   "execution_count": null,
   "metadata": {},
   "outputs": [],
   "source": [
    "## Basic inheritance\n",
    "Inheritance in Python is based on similar ideas used in other object oriented languages like Java, C++ etc. A new class can be derived from an existing class as follows."
   ]
  },
  {
   "cell_type": "code",
   "execution_count": null,
   "metadata": {},
   "outputs": [],
   "source": [
    "class BaseClass(object):\n",
    "    pass\n",
    "class DerivedClass(BaseClass):\n",
    "    pass"
   ]
  },
  {
   "cell_type": "markdown",
   "execution_count": null,
   "metadata": {},
   "outputs": [],
   "source": [
    "The BaseClass is the already existing (parent) class, and the DerivedClass is the new (child) class that inherits (or\n",
    "subclasses) attributes from BaseClass."
   ]
  },
  {
   "cell_type": "code",
   "execution_count": null,
   "metadata": {},
   "outputs": [],
   "source": [
    "class Rectangle():\n",
    "    def __init__(self, w, h):\n",
    "        self.w = w\n",
    "        self.h = h\n",
    "\n",
    "    def area(self):\n",
    "        return self.w * self.h\n",
    "\n",
    "    def perimeter(self):\n",
    "        return 2 * (self.w + self.h)\n",
    "\n",
    "class Square(Rectangle):\n",
    "    def __init__(self, s):\n",
    "        # call parent constructor, w and h are both s\n",
    "        super(Square, self).__init__(s, s)\n",
    "        self.s = s\n",
    "\n",
    "s = Square(5)\n",
    "print(\"Area of square is {}\".format(s.area()))\n",
    "print(\"Permeter of square is {}\".format(s.perimeter()))"
   ]
  },
  {
   "cell_type": "markdown",
   "execution_count": null,
   "metadata": {},
   "outputs": [],
   "source": [
    "## Built-in functions that work with inheritance\n",
    "issubclass(DerivedClass, BaseClass): returns True if DerivedClass is a subclass of the BaseClass\n",
    "\n",
    "isinstance(s, Class): returns True if s is an instance of Class or any of the derived classes of Class\n"
   ]
  },
  {
   "cell_type": "code",
   "execution_count": null,
   "metadata": {},
   "outputs": [],
   "source": [
    "print(issubclass(Square, Rectangle))"
   ]
  },
  {
   "cell_type": "code",
   "execution_count": null,
   "metadata": {},
   "outputs": [],
   "source": [
    "r = Rectangle(3, 4)\n",
    "s = Square(2)\n",
    "print(isinstance(r, Rectangle))\n",
    "print(isinstance(r, Square))"
   ]
  },
  {
   "cell_type": "markdown",
   "execution_count": null,
   "metadata": {},
   "outputs": [],
   "source": [
    "## Multiple Inheritance\n",
    "Python uses the *C3 linearization algorithm* to determine the order in which to resolve class attributes, including methods. This is known as the Method Resolution Order (MRO).\n"
   ]
  },
  {
   "cell_type": "code",
   "execution_count": null,
   "metadata": {},
   "outputs": [],
   "source": [
    "class Foo(object):\n",
    "    foo = 'attr foo of Foo'\n",
    "\n",
    "class Bar(object):\n",
    "    foo = 'attr foo of Bar' # we won't see this.\n",
    "    bar = 'attr bar of Bar'\n",
    "\n",
    "class FooBar(Foo, Bar):\n",
    "    foobar = 'attr foobar of FooBar'\n",
    "\n",
    "fb = FooBar()\n",
    "print(fb.foo)\n",
    "print(FooBar.mro())"
   ]
  },
  {
   "cell_type": "code",
   "execution_count": null,
   "metadata": {},
   "outputs": [],
   "source": [
    "class Foo(object):\n",
    "    def __init__(self):\n",
    "        print(\"foo init\")\n",
    "\n",
    "class Bar(object):\n",
    "    def __init__(self):\n",
    "        print(\"bar init\")\n",
    "\n",
    "class FooBar(Foo, Bar):\n",
    "    def __init__(self):\n",
    "        print(\"foobar init\")\n",
    "        super(FooBar, self).__init__()\n",
    "        \n",
    "a = FooBar()"
   ]
  },
  {
   "cell_type": "markdown",
   "execution_count": null,
   "metadata": {},
   "outputs": [],
   "source": [
    "It can be simply stated that Python's MRO algorithm is\n",
    "\n",
    "1. Depth first (e.g. FooBar then Foo) unless\n",
    "\n",
    "2. a shared parent (object) is blocked by a child (Bar) and\n",
    "\n",
    "3. no circular relationships allowed."
   ]
  },
  {
   "cell_type": "markdown",
   "execution_count": null,
   "metadata": {},
   "outputs": [],
   "source": [
    "## Properties\n",
    "Python classes support properties, which look like regular object variables, but with the possibility of attaching\n",
    "custom behavior and documentation."
   ]
  },
  {
   "cell_type": "code",
   "execution_count": null,
   "metadata": {},
   "outputs": [],
   "source": [
    "class MyClass(object):\n",
    "    def __init__(self):\n",
    "        self._my_string = \"\"\n",
    "\n",
    "    @property\n",
    "    def string(self):\n",
    "        \"\"\"A profoundly important string.\"\"\"\n",
    "        return self._my_string\n",
    "\n",
    "    @string.setter\n",
    "    def string(self, new_value):\n",
    "        assert isinstance(new_value, str), \"Give me a string, not a %r!\" % type(new_value)\n",
    "        self._my_string = new_value\n",
    "\n",
    "mc = MyClass()\n",
    "mc.string = \"String!\"\n",
    "print(mc.string)"
   ]
  },
  {
   "cell_type": "markdown",
   "execution_count": null,
   "metadata": {},
   "outputs": [],
   "source": [
    "## Default values for instance variables\n",
    "If the variable contains a value of an immutable type (e.g. a string) then it is okay to assign a default value like this"
   ]
  },
  {
   "cell_type": "code",
   "execution_count": null,
   "metadata": {},
   "outputs": [],
   "source": [
    "class Rectangle(object):\n",
    "    def __init__(self, width, height, color='blue'):\n",
    "        self.width = width\n",
    "        self.height = height\n",
    "        self.color = color\n",
    "\n",
    "    def area(self):\n",
    "        return self.width * self.height\n",
    "        \n",
    "# Create some instances of the class\n",
    "default_rectangle = Rectangle(2, 3)\n",
    "print(default_rectangle.color) # blue\n",
    "red_rectangle = Rectangle(2, 3, 'red')\n",
    "print(red_rectangle.color) # red"
   ]
  },
  {
   "cell_type": "markdown",
   "execution_count": null,
   "metadata": {},
   "outputs": [],
   "source": [
    "## Class and instance variables\n",
    "Instance variables are unique for each instance, while class variables are shared by all instances."
   ]
  },
  {
   "cell_type": "code",
   "execution_count": null,
   "metadata": {},
   "outputs": [],
   "source": [
    "class C:\n",
    "    x = 2 # class variable\n",
    "    def __init__(self, y):\n",
    "        self.y = y # instance variable\n",
    "print(C.x)\n",
    "# print(C.y) # AttributeError: type object 'C' has no attribute 'y'\n",
    "\n",
    "c1 = C(3)\n",
    "print(c1.x)\n",
    "print(c1.y)\n",
    "\n",
    "c2 = C(4)\n",
    "print(c2.x)\n",
    "print(c2.y)"
   ]
  },
  {
   "cell_type": "markdown",
   "execution_count": null,
   "metadata": {},
   "outputs": [],
   "source": [
    "## Listing All Class Members\n",
    "The dir() function can be used to get a list of the members of a class."
   ]
  },
  {
   "cell_type": "code",
   "execution_count": null,
   "metadata": {},
   "outputs": [],
   "source": [
    "class Class:\n",
    "    pass\n",
    "dir(Class)"
   ]
  },
  {
   "cell_type": "markdown",
   "execution_count": null,
   "metadata": {},
   "outputs": [],
   "source": [
    "It is common to look only for \"non-magic\" members. This can be done using a simple comprehension that listsmembers with names not starting with __:"
   ]
  },
  {
   "cell_type": "code",
   "execution_count": null,
   "metadata": {},
   "outputs": [],
   "source": [
    "print([m for m in dir(list) if not m.startswith('__')])"
   ]
  },
  {
   "cell_type": "markdown",
   "execution_count": null,
   "metadata": {},
   "outputs": [],
   "source": [
    "## Abstract Base Class(ABC)\n",
    "Abstract classes are classes that are meant to be inherited but avoid implementing specific methods, leaving behind only method signatures that subclasses must implement."
   ]
  },
  {
   "cell_type": "code",
   "execution_count": null,
   "metadata": {},
   "outputs": [],
   "source": [
    "class Fruit:\n",
    "    def check_ripeness(self):\n",
    "        raise NotImplementedError(\"check_ripeness method not implemented!\")\n",
    "class Apple(Fruit):\n",
    "    pass\n",
    "a = Apple()\n",
    "a.check_ripeness()"
   ]
  },
  {
   "cell_type": "code",
   "execution_count": null,
   "metadata": {},
   "outputs": [],
   "source": [
    "from abc import ABC, abstractmethod\n",
    " \n",
    "class AbstractClassExample(ABC):\n",
    " \n",
    "    def __init__(self, value):\n",
    "        self.value = value\n",
    "        super().__init__()\n",
    "    \n",
    "    @abstractmethod\n",
    "    def do_something(self):\n",
    "        pass\n",
    "\n",
    "class DoAdd42(AbstractClassExample):\n",
    "    pass\n",
    "\n",
    "x = DoAdd42(4)"
   ]
  },
  {
   "cell_type": "code",
   "execution_count": null,
   "metadata": {},
   "outputs": [],
   "source": [
    "class DoAdd42(AbstractClassExample):\n",
    "\n",
    "    def do_something(self):\n",
    "        return self.value + 42\n",
    "    \n",
    "class DoMul42(AbstractClassExample):\n",
    "   \n",
    "    def do_something(self):\n",
    "        return self.value * 42\n",
    "    \n",
    "x = DoAdd42(10)\n",
    "y = DoMul42(10)\n",
    "\n",
    "print(x.do_something())\n",
    "print(y.do_something())"
   ]
  },
  {
   "cell_type": "markdown",
   "execution_count": null,
   "metadata": {},
   "outputs": [],
   "source": [
    "## Set\n",
    "Sets are mutable and unordered collections of unique objects."
   ]
  },
  {
   "cell_type": "code",
   "execution_count": null,
   "metadata": {},
   "outputs": [],
   "source": [
    "basket = {'apple', 'orange','apple', 'pear', 'orange', 'banana'}\n",
    "print(basket)"
   ]
  },
  {
   "cell_type": "code",
   "execution_count": null,
   "metadata": {},
   "outputs": [],
   "source": [
    "a = set('abracadabra')\n",
    "print(a)"
   ]
  },
  {
   "cell_type": "code",
   "execution_count": null,
   "metadata": {},
   "outputs": [],
   "source": [
    "a.add('z')\n",
    "print(a)"
   ]
  },
  {
   "cell_type": "code",
   "execution_count": null,
   "metadata": {},
   "outputs": [],
   "source": [
    "a.discard('r')\n",
    "print(a)"
   ]
  },
  {
   "cell_type": "markdown",
   "execution_count": null,
   "metadata": {},
   "outputs": [],
   "source": [
    "## Frozen Sets\n",
    "They are immutable and new elements cannot added after its defined."
   ]
  },
  {
   "cell_type": "code",
   "execution_count": null,
   "metadata": {},
   "outputs": [],
   "source": [
    "b = frozenset('asdfagsa')\n",
    "print(b)\n",
    "cities = frozenset([\"Frankfurt\", \"Basel\",\"Freiburg\"])\n",
    "print(cities)"
   ]
  },
  {
   "cell_type": "markdown",
   "execution_count": null,
   "metadata": {},
   "outputs": [],
   "source": [
    "##  Operations on sets"
   ]
  },
  {
   "cell_type": "code",
   "execution_count": null,
   "metadata": {},
   "outputs": [],
   "source": [
    "# Intersection\n",
    "{1, 2, 3, 4, 5}.intersection({3, 4, 5, 6})\n",
    "print({1, 2, 3, 4, 5} & {3, 4, 5, 6})"
   ]
  },
  {
   "cell_type": "code",
   "execution_count": null,
   "metadata": {},
   "outputs": [],
   "source": [
    "# Union\n",
    "print({1, 2, 3, 4, 5}.union({3, 4, 5, 6}))\n",
    "print({1, 2, 3, 4, 5} | {3, 4, 5, 6})"
   ]
  },
  {
   "cell_type": "code",
   "execution_count": null,
   "metadata": {},
   "outputs": [],
   "source": [
    "# Difference\n",
    "print({1, 2, 3, 4}.difference({2, 3, 5}))\n",
    "print({1, 2, 3, 4} - {2, 3, 5})"
   ]
  },
  {
   "cell_type": "code",
   "execution_count": null,
   "metadata": {},
   "outputs": [],
   "source": [
    "# Symmetric difference with\n",
    "print({1, 2, 3, 4}.symmetric_difference({2, 3, 5}))\n",
    "print({1, 2, 3, 4} ^ {2, 3, 5})"
   ]
  },
  {
   "cell_type": "code",
   "execution_count": null,
   "metadata": {},
   "outputs": [],
   "source": [
    "# Superset check\n",
    "print({1, 2}.issuperset({1, 2, 3}))\n",
    "print({1, 2} >= {1, 2, 3})"
   ]
  },
  {
   "cell_type": "code",
   "execution_count": null,
   "metadata": {},
   "outputs": [],
   "source": [
    "# Subset check\n",
    "print({1, 2}.issubset({1, 2, 3}))\n",
    "print({1, 2} <= {1, 2, 3})"
   ]
  },
  {
   "cell_type": "code",
   "execution_count": null,
   "metadata": {},
   "outputs": [],
   "source": [
    "# Disjoint check\n",
    "print({1, 2}.isdisjoint({3, 4}))\n",
    "print({1, 2}.isdisjoint({1, 4}))"
   ]
  },
  {
   "cell_type": "markdown",
   "execution_count": null,
   "metadata": {},
   "outputs": [],
   "source": [
    "### Set of Sets"
   ]
  },
  {
   "cell_type": "code",
   "execution_count": null,
   "metadata": {},
   "outputs": [],
   "source": [
    "print({{1,2}, {3,4}})"
   ]
  },
  {
   "cell_type": "code",
   "execution_count": null,
   "metadata": {},
   "outputs": [],
   "source": [
    "# Instead, use frozenset:\n",
    "print({frozenset({1, 2}), frozenset({3, 4})})"
   ]
  },
  {
   "cell_type": "markdown",
   "execution_count": null,
   "metadata": {},
   "outputs": [],
   "source": [
    "## Disjoint sets\n",
    "Sets a and d are disjoint if no element in a is also in d and vice versa."
   ]
  },
  {
   "cell_type": "code",
   "execution_count": null,
   "metadata": {},
   "outputs": [],
   "source": [
    "a = {1, 2, 2, 3, 4}\n",
    "b = {3, 3, 4, 4, 5}\n",
    "d = {5, 6}\n",
    "print(a.isdisjoint(b))\n",
    "print(a.isdisjoint(d))"
   ]
  },
  {
   "cell_type": "markdown",
   "execution_count": null,
   "metadata": {},
   "outputs": [],
   "source": [
    "## ENUM\n",
    "\n",
    "Enum is a class in python for creating enumerations, which are a set of symbolic names (members) bound to unique, constant values."
   ]
  },
  {
   "cell_type": "code",
   "execution_count": null,
   "metadata": {},
   "outputs": [],
   "source": [
    "import enum\n",
    "# Using enum class create enumerations\n",
    "class Days(enum.Enum):\n",
    "   Sun = 1\n",
    "   Mon = 2\n",
    "   Tue = 3\n",
    "# print the enum member as a string\n",
    "print (\"The enum member as a string is : \",end=\"\")\n",
    "print (Days.Mon)\n",
    "\n",
    "# print the enum member as a repr\n",
    "print (\"he enum member as a repr is : \",end=\"\")\n",
    "print (repr(Days.Sun))\n",
    "\n",
    "# Check type of enum member\n",
    "print (\"The type of enum member is : \",end =\"\")\n",
    "print (type(Days.Mon))\n",
    "\n",
    "# print name of enum member\n",
    "print (\"The name of enum member is : \",end =\"\")\n",
    "print (Days.Tue.name)"
   ]
  },
  {
   "cell_type": "markdown",
   "execution_count": null,
   "metadata": {},
   "outputs": [],
   "source": [
    "## Printing enum as an iterable\n",
    "We can print the enum as an iterable list. In the below code we use a for loop to print all enum members."
   ]
  },
  {
   "cell_type": "code",
   "execution_count": null,
   "metadata": {},
   "outputs": [],
   "source": [
    "import enum\n",
    "# Using enum class create enumerations\n",
    "class Days(enum.Enum):\n",
    "   Sun = 1\n",
    "   Mon = 2\n",
    "   Tue = 3\n",
    "# printing all enum members using loop\n",
    "print (\"The enum members are : \")\n",
    "for weekday in (Days):\n",
    "   print(weekday)"
   ]
  },
  {
   "cell_type": "markdown",
   "execution_count": null,
   "metadata": {},
   "outputs": [],
   "source": [
    "## IntEnum\n",
    "Base class for creating enumerated constants that are also subclasses of int."
   ]
  },
  {
   "cell_type": "code",
   "execution_count": null,
   "metadata": {},
   "outputs": [],
   "source": [
    "from enum import IntEnum\n",
    "\n",
    "class Shape(IntEnum):\n",
    "    CIRCLE = 1\n",
    "    SQUARE = 2\n",
    "\n",
    "class Request(IntEnum):\n",
    "    POST = 1\n",
    "    GET = 2\n",
    "\n",
    "print(Shape.SQUARE == 1)\n",
    "print(Shape.CIRCLE == 1)\n",
    "print(Shape.CIRCLE == Request.POST)"
   ]
  },
  {
   "cell_type": "markdown",
   "execution_count": null,
   "metadata": {},
   "outputs": [],
   "source": [
    "## IntFlag\n",
    "The next variation of Enum provided, IntFlag, is also based on int. The difference being IntFlag members can be combined using the bitwise operators (&, |, ^, ~) and the result is still an IntFlag member."
   ]
  },
  {
   "cell_type": "code",
   "execution_count": null,
   "metadata": {},
   "outputs": [],
   "source": [
    "from enum import IntFlag\n",
    "class Perm(IntFlag):\n",
    "    R = 4\n",
    "    W = 2\n",
    "    X = 1\n",
    "\n",
    "print(Perm.R | Perm.W)\n",
    "print(Perm.R + Perm.W)\n",
    "RW = Perm.R | Perm.W\n",
    "print(Perm.R in RW)"
   ]
  },
  {
   "cell_type": "markdown",
   "execution_count": null,
   "metadata": {},
   "outputs": [],
   "source": [
    "## Flag\n",
    "The last variation is Flag. Like IntFlag, Flag members can be combined using the bitwise operators (&, |, ^, ~). Unlike IntFlag, they cannot be combined with, nor compared against, any other Flag enumeration, nor int."
   ]
  },
  {
   "cell_type": "code",
   "execution_count": null,
   "metadata": {},
   "outputs": [],
   "source": [
    "from enum import Flag, auto\n",
    "class Color(Flag):\n",
    "    RED = auto()\n",
    "    BLUE = auto()\n",
    "    GREEN = auto()\n",
    "\n",
    "print(Color.RED & Color.GREEN)\n",
    "print(bool(Color.RED & Color.GREEN))"
   ]
  },
  {
   "cell_type": "markdown",
   "execution_count": null,
   "metadata": {},
   "outputs": [],
   "source": [
    "## Variable Scope and Binding\n",
    "### Nonlocal Variables\n",
    "Python 3 added a new keyword called nonlocal. Nonlocal variable are used in nested function whose local scope is not defined. This means, the variable can be neither in the local nor the global scope."
   ]
  },
  {
   "cell_type": "code",
   "execution_count": null,
   "metadata": {},
   "outputs": [],
   "source": [
    "def counter():\n",
    "    num = 0\n",
    "    def incrementer():\n",
    "        num += 1\n",
    "        return num\n",
    "    return incrementer\n",
    "c = counter()\n",
    "c()"
   ]
  },
  {
   "cell_type": "code",
   "execution_count": null,
   "metadata": {},
   "outputs": [],
   "source": [
    "def counter():\n",
    "    num = 0\n",
    "    def incrementer():\n",
    "        nonlocal num\n",
    "        num += 1\n",
    "        return num\n",
    "    return incrementer\n",
    "c = counter()\n",
    "print(c())\n",
    "print(c())\n",
    "print(c())"
   ]
  },
  {
   "cell_type": "markdown",
   "execution_count": null,
   "metadata": {},
   "outputs": [],
   "source": [
    "### Global Variables\n",
    "In Python, a variable declared outside of the function or in global scope is known as global variable. This means, global variable can be accessed inside or outside of the function."
   ]
  },
  {
   "cell_type": "code",
   "execution_count": null,
   "metadata": {},
   "outputs": [],
   "source": [
    "x = \"global\"\n",
    "\n",
    "def foo():\n",
    "    print(\"x inside :\", x)\n",
    "\n",
    "foo()\n",
    "print(\"x outside:\", x)"
   ]
  },
  {
   "cell_type": "code",
   "execution_count": null,
   "metadata": {},
   "outputs": [],
   "source": [
    "x = \"global\"\n",
    "\n",
    "def foo():\n",
    "    x = x * 2\n",
    "    print(x)\n",
    "foo()"
   ]
  },
  {
   "cell_type": "markdown",
   "execution_count": null,
   "metadata": {},
   "outputs": [],
   "source": [
    "The output above shows an error because Python treats x as a local variable and x is also not defined inside foo(). To make this work we use global keyword"
   ]
  },
  {
   "cell_type": "code",
   "execution_count": null,
   "metadata": {},
   "outputs": [],
   "source": [
    "x = \"global\"\n",
    "\n",
    "def foo():\n",
    "    global x\n",
    "    x = x * 2\n",
    "    print(x)\n",
    "foo()"
   ]
  },
  {
   "cell_type": "markdown",
   "execution_count": null,
   "metadata": {},
   "outputs": [],
   "source": [
    "### What happens with name clashes?\n"
   ]
  },
  {
   "cell_type": "code",
   "execution_count": null,
   "metadata": {},
   "outputs": [],
   "source": [
    "foo = 1\n",
    "def func():\n",
    "    foo = 2 # creates a new variable foo in local scope, global foo is not affected\n",
    "    print(foo) # prints 2\n",
    "    # global variable foo still exists, unchanged:\n",
    "    print(globals()['foo']) # prints 1\n",
    "    print(locals()['foo']) # prints 2\n",
    "func()"
   ]
  },
  {
   "cell_type": "markdown",
   "execution_count": null,
   "metadata": {},
   "outputs": [],
   "source": [
    "## Generators\n",
    "\n",
    "There is a lot of overhead in building an iterator in Python. We have to implement a class with ____iter____() and ____next____() method, keep track of internal states, raise StopIteration when there was no values to be returned etc.<br>\n",
    "\n",
    "This is both lengthy and counter intuitive. Generator comes into rescue in such situations.<br>\n",
    "\n",
    "Python generators are a simple way of creating iterators. All the overhead we mentioned above are automatically handled by generators in Python.\n",
    "\n",
    "Simply speaking, a generator is a function that returns an object (iterator) which we can iterate over (one value at a time)."
   ]
  },
  {
   "cell_type": "markdown",
   "execution_count": null,
   "metadata": {},
   "outputs": [],
   "source": [
    "### Create Generator\n",
    "\n",
    "It is fairly simple to create a generator in Python. It is as easy as defining a normal function with yield statement instead of a return statement.\n",
    "\n",
    "The difference is that, while a return statement terminates a function entirely, yield statement pauses the function saving all its states and later continues from there on successive calls."
   ]
  },
  {
   "cell_type": "code",
   "execution_count": null,
   "metadata": {},
   "outputs": [],
   "source": [
    "def my_gen():\n",
    "    n = 1\n",
    "    print('This is printed first')\n",
    "    # Generator function contains yield statements\n",
    "    yield n\n",
    "\n",
    "    n += 1\n",
    "    print('This is printed second')\n",
    "    yield n\n",
    "\n",
    "    n += 1\n",
    "    print('This is printed at last')\n",
    "    yield n\n",
    "\n",
    "a = my_gen()\n",
    "next(a)\n",
    "next(a)\n",
    "next(a)\n",
    "# Finally, when the function terminates, StopIteration is raised automatically on further calls.\n",
    "next(a)"
   ]
  },
  {
   "cell_type": "code",
   "execution_count": null,
   "metadata": {},
   "outputs": [],
   "source": [
    "# A simple generator function\n",
    "def my_gen():\n",
    "    n = 1\n",
    "    print('This is printed first')\n",
    "    # Generator function contains yield statements\n",
    "    yield n\n",
    "\n",
    "    n += 1\n",
    "    print('This is printed second')\n",
    "    yield n\n",
    "\n",
    "    n += 1\n",
    "    print('This is printed at last')\n",
    "    yield n\n",
    "\n",
    "# Using for loop\n",
    "for item in my_gen():\n",
    "    print(item)   "
   ]
  },
  {
   "cell_type": "markdown",
   "execution_count": null,
   "metadata": {},
   "outputs": [],
   "source": [
    "### Why generators are used in Python?\n",
    "\n",
    "1. Easy to Implement\n",
    "\n",
    "Generators can be implemented in a clear and concise way as compared to their iterator class counterpart. Following is an example to implement a sequence of power of 2's using iterator class."
   ]
  },
  {
   "cell_type": "code",
   "execution_count": null,
   "metadata": {},
   "outputs": [],
   "source": [
    "class PowTwo:\n",
    "    def __init__(self, max = 0):\n",
    "        self.max = max\n",
    "\n",
    "    def __iter__(self):\n",
    "        self.n = 0\n",
    "        return self\n",
    "\n",
    "    def __next__(self):\n",
    "        if self.n > self.max:\n",
    "            raise StopIteration\n",
    "\n",
    "        result = 2 ** self.n\n",
    "        self.n += 1\n",
    "        return result"
   ]
  },
  {
   "cell_type": "markdown",
   "execution_count": null,
   "metadata": {},
   "outputs": [],
   "source": [
    "This was lengthy. Now lets do the same using a generator function."
   ]
  },
  {
   "cell_type": "code",
   "execution_count": null,
   "metadata": {},
   "outputs": [],
   "source": [
    "def PowTwoGen(max = 0):\n",
    "    n = 0\n",
    "    while n < max:\n",
    "        yield 2 ** n\n",
    "        n += 1"
   ]
  },
  {
   "cell_type": "markdown",
   "execution_count": null,
   "metadata": {},
   "outputs": [],
   "source": [
    "2. Represent Infinite Stream\n",
    "\n",
    "Generators are excellent medium to represent an infinite stream of data. Infinite streams cannot be stored in memory and since generators produce only one item at a time, it can represent infinite stream of data.\n",
    "\n",
    "The following example can generate all the even numbers (at least in theory)."
   ]
  },
  {
   "cell_type": "code",
   "execution_count": null,
   "metadata": {},
   "outputs": [],
   "source": [
    "def all_even():\n",
    "    n = 0\n",
    "    while True:\n",
    "        yield n\n",
    "        n += 2"
   ]
  },
  {
   "cell_type": "markdown",
   "execution_count": null,
   "metadata": {},
   "outputs": [],
   "source": [
    "## Lambda\n",
    "\n",
    "A lambda function is a small anonymous function.\n",
    "\n",
    "A lambda function can take any number of arguments, but can only have one expression.\n",
    "\n",
    "*lambda arguments : expression*"
   ]
  },
  {
   "cell_type": "code",
   "execution_count": null,
   "metadata": {},
   "outputs": [],
   "source": [
    "x = lambda a : a + 10\n",
    "print(x(5)) "
   ]
  },
  {
   "cell_type": "code",
   "execution_count": null,
   "metadata": {},
   "outputs": [],
   "source": [
    "x = lambda a, b : a * b\n",
    "print(x(5, 6)) "
   ]
  },
  {
   "cell_type": "code",
   "execution_count": null,
   "metadata": {},
   "outputs": [],
   "source": [
    "x = lambda a, b, c : a + b + c\n",
    "print(x(5, 6, 2)) "
   ]
  },
  {
   "cell_type": "code",
   "execution_count": null,
   "metadata": {},
   "outputs": [],
   "source": [
    "def cube(y): \n",
    "    return y*y*y; \n",
    "  \n",
    "g = lambda x: x*x*x \n",
    "print(g(7)) \n",
    "  \n",
    "print(cube(5)) "
   ]
  },
  {
   "cell_type": "markdown",
   "execution_count": null,
   "metadata": {},
   "outputs": [],
   "source": [
    "### Filter\n",
    "\n",
    "The filter() method constructs an iterator from elements of an iterable for which a function returns true."
   ]
  },
  {
   "cell_type": "code",
   "execution_count": null,
   "metadata": {},
   "outputs": [],
   "source": [
    "lst = [1, 2, 3, 4, 5]\n",
    "even_lst = list(filter(lambda x: (x%2 == 0), lst))\n",
    "print(even_lst)"
   ]
  },
  {
   "cell_type": "markdown",
   "execution_count": null,
   "metadata": {},
   "outputs": [],
   "source": [
    "### Map\n",
    "\n",
    "The map() function applies a given function to each item of an iterable (list, tuple etc.) and returns a list of the results."
   ]
  },
  {
   "cell_type": "code",
   "execution_count": null,
   "metadata": {},
   "outputs": [],
   "source": [
    "lst = [1, 2, 3, 4, 5]\n",
    "new_lst = list(map(lambda x: x ** 2, lst))\n",
    "print(new_lst)"
   ]
  },
  {
   "cell_type": "markdown",
   "execution_count": null,
   "metadata": {},
   "outputs": [],
   "source": [
    "### Reduce\n",
    "Reduce is a really useful function for performing some computation on a list and returning the result. It applies a rolling computation to sequential pairs of values in a list."
   ]
  },
  {
   "cell_type": "code",
   "execution_count": null,
   "metadata": {},
   "outputs": [],
   "source": [
    "from functools import reduce\n",
    "\n",
    "lst = [1, 2, 3, 4, 5]\n",
    "product_lst = reduce(lambda x, y: x*y, lst)\n",
    "print(product_lst)"
   ]
  },
  {
   "cell_type": "markdown",
   "execution_count": null,
   "metadata": {},
   "outputs": [],
   "source": [
    "### Zip\n",
    "\n",
    "The zip() function takes iterables (can be zero or more), aggregates them in a tuple, and return it.\n",
    "\n",
    "<i>zip(&ast;iterables)</i>"
   ]
  },
  {
   "cell_type": "code",
   "execution_count": null,
   "metadata": {},
   "outputs": [],
   "source": [
    "number_list = [1, 2, 3]\n",
    "str_list = ['one', 'two', 'three']\n",
    "\n",
    "# No iterables are passed\n",
    "result = zip()\n",
    "\n",
    "# Converting itertor to list\n",
    "result_list = list(result)\n",
    "print(result_list)\n",
    "\n",
    "# Two iterables are passed\n",
    "result = zip(number_list, str_list)\n",
    "\n",
    "# Converting itertor to set\n",
    "result_set = set(result)\n",
    "print(result_set)"
   ]
  },
  {
   "cell_type": "code",
   "execution_count": null,
   "metadata": {},
   "outputs": [],
   "source": [
    "numbersList = [1, 2, 3]\n",
    "str_list = ['one', 'two']\n",
    "numbers_tuple = ('ONE', 'TWO', 'THREE', 'FOUR')\n",
    "\n",
    "# Notice, the size of numbersList and numbers_tuple is different\n",
    "result = zip(numbersList, numbers_tuple)\n",
    "\n",
    "# Converting to set\n",
    "result_set = set(result)\n",
    "print(result_set)\n",
    "\n",
    "result = zip(numbersList, str_list, numbers_tuple)\n",
    "\n",
    "# Converting to set\n",
    "result_set = set(result)\n",
    "print(result_set)"
   ]
  },
  {
   "cell_type": "markdown",
   "execution_count": null,
   "metadata": {},
   "outputs": [],
   "source": [
    "## Magic Methods\n",
    "\n",
    "What are magic methods? They're everything in object-oriented Python. They're special methods that you can define to add \"magic\" to your classes. They're always surrounded by double underscores (e.g. ____init____ or ____lt____). "
   ]
  },
  {
   "cell_type": "code",
   "execution_count": null,
   "metadata": {},
   "outputs": [],
   "source": [
    "class Dummy:\n",
    "    pass\n",
    "print(dir(Dummy))"
   ]
  },
  {
   "cell_type": "markdown",
   "execution_count": null,
   "metadata": {},
   "outputs": [],
   "source": [
    "### ____new____() method\n",
    "\n",
    "Languages such as Java and C# use the new operator to create a new instance of a class. In Python the ____new____() magic method is implicitly called before the ____init____() method. The ____new____() method returns a new object, which is then initialized by ____init____()."
   ]
  },
  {
   "cell_type": "code",
   "execution_count": null,
   "metadata": {},
   "outputs": [],
   "source": [
    "class employee:\n",
    "    def __new__(cls):\n",
    "        print (\"__new__ magic method is called\")\n",
    "        inst = object.__new__(cls)\n",
    "        return inst\n",
    "    def __init__(self):\n",
    "        print (\"__init__ magic method is called\")\n",
    "        self.name='Paul'\n",
    "\n",
    "e1=employee()"
   ]
  },
  {
   "cell_type": "markdown",
   "execution_count": null,
   "metadata": {},
   "outputs": [],
   "source": [
    "### ____str____() method\n",
    "Another useful magic method is ____str____(). It is overridden to return a printable string representation of any user defined class. We have seen str() built-in function which returns a string from the object parameter. For example, str(12) returns '12'. When invoked, it calls the ____str____() method in the int class."
   ]
  },
  {
   "cell_type": "code",
   "execution_count": null,
   "metadata": {},
   "outputs": [],
   "source": [
    "num=12\n",
    "print(str(num))\n",
    "\n",
    "#This is equivalent to\n",
    "print(int.__str__(num))"
   ]
  },
  {
   "cell_type": "code",
   "execution_count": null,
   "metadata": {},
   "outputs": [],
   "source": [
    "class employee:\n",
    "    def __init__(self):\n",
    "        self.name='Elena'\n",
    "        self.salary=10000\n",
    "\n",
    "    def __str__(self):\n",
    "        return 'name='+self.name+' salary=$'+str(self.salary)\n",
    "\n",
    "e1=employee()\n",
    "print(e1)"
   ]
  },
  {
   "cell_type": "markdown",
   "execution_count": null,
   "metadata": {},
   "outputs": [],
   "source": [
    "### ____add____() method\n",
    "In following example, a class named distance is defined with two instance attributes - ft and inch. The addition of these two distance objects is desired to be performed using the overloading + operator.\n",
    "\n",
    "To achieve this, the magic method ____add____() is overridden, which performs the addition of the ft and inch attributes of the two objects. The ____str____() method returns the object's string representation."
   ]
  },
  {
   "cell_type": "code",
   "execution_count": null,
   "metadata": {},
   "outputs": [],
   "source": [
    "class distance:\n",
    "    def __init__(self, x=None,y=None):\n",
    "        self.ft=x\n",
    "        self.inch=y\n",
    "\n",
    "    def __add__(self,x):\n",
    "        temp=distance()\n",
    "        temp.ft=self.ft+x.ft\n",
    "        temp.inch=self.inch+x.inch\n",
    "        if temp.inch>=12:\n",
    "            temp.ft+=1\n",
    "            temp.inch-=12\n",
    "        return temp\n",
    "\n",
    "    def __str__(self):\n",
    "        return 'ft:'+str(self.ft)+' in: '+str(self.inch)\n",
    "\n",
    "d1=distance(3,10)\n",
    "d2=distance(4,4)\n",
    "\n",
    "print(\"d1= {}, d2={}\".format(d1, d2))\n",
    "d3=d1+d2\n",
    "print(d3)"
   ]
  },
  {
   "cell_type": "markdown",
   "execution_count": null,
   "metadata": {},
   "outputs": [],
   "source": [
    "### ____ge____() method\n",
    "The following method is added in the distance class to overload the >= operator."
   ]
  },
  {
   "cell_type": "code",
   "execution_count": null,
   "metadata": {},
   "outputs": [],
   "source": [
    "class distance:\n",
    "    def __init__(self, x=None,y=None):\n",
    "        self.ft=x\n",
    "        self.inch=y\n",
    "\n",
    "    def __ge__(self, x):\n",
    "        val1=self.ft*12+self.inch\n",
    "        val2=x.ft*12+x.inch\n",
    "        if val1>=val2:\n",
    "            return True\n",
    "        else:\n",
    "            return False\n",
    "d1=distance(2,1)\n",
    "d2=distance(4,10)\n",
    "print(d1>=d2)"
   ]
  },
  {
   "cell_type": "markdown",
   "execution_count": null,
   "metadata": {},
   "outputs": [],
   "source": [
    "### Important Magic Methods\n",
    "\n",
    "#### Initialization and Construction\n",
    "____new____(cls, other)\tTo get called in an object's instantiation.<br>\n",
    "____init____(self, other)\tTo get called by the ____new____ method.<br>\n",
    "____del____(self)\tDestructor method.<br>\n",
    "\n",
    "#### Unary operators and functions<br>\n",
    "__pos__(self)\tTo get called for unary positive e.g. +someobject.<br>\n",
    "__neg__(self)\tTo get called for unary negative e.g. -someobject.<br>\n",
    "__abs__(self)\tTo get called by built-in abs() function.<br>\n",
    "__invert__(self)\tTo get called for inversion using the ~ operator.<br>\n",
    "__round__(self,n)\tTo get called by built-in round() function.<br>\n",
    "__floor__(self)\tTo get called by built-in math.floor() function.<br>\n",
    "__ceil__(self)\tTo get called by built-in math.ceil() function.<br>\n",
    "__trunc__(self)\tTo get called by built-in math.trunc() function.<br>\n",
    " \n",
    "#### Augmented Assignment<br>\n",
    "__iadd__(self, other)\tTo get called on addition with assignment e.g. a +=b.<br>\n",
    "__isub__(self, other)\tTo get called on subtraction with assignment e.g. a -=b.<br>\n",
    "__imul__(self, other)\tTo get called on multiplication with assignment e.g. a *=b.<br>\n",
    "__ifloordiv__(self, other)\tTo get called on integer division with assignment e.g. a //=b.<br>\n",
    "__idiv__(self, other)\tTo get called on division with assignment e.g. a /=b.<br>\n",
    "__itruediv__(self, other)\tTo get called on true division with assignment<br>\n",
    "__imod__(self, other)\tTo get called on modulo with assignment e.g. a%=b.<br>\n",
    "__ipow__(self, other)\tTo get called on exponentswith assignment e.g. a **=b.<br>\n",
    "__ilshift__(self, other)\tTo get called on left bitwise shift with assignment e.g. a<<=b.<br>\n",
    "__irshift__(self, other)\tTo get called on right bitwise shift with assignment e.g. a >>=b.<br>\n",
    "__iand__(self, other)\tTo get called on bitwise AND with assignment e.g. a&=b.<br>\n",
    "__ior__(self, other)\tTo get called on bitwise OR with assignment e.g. a|=b.<br>\n",
    "__ixor__(self, other)\tTo get called on bitwise XOR with assignment e.g. a ^=b.<br>\n",
    "\n",
    "#### Type Conversion Magic Methods<br>\n",
    "__int__(self)\tTo get called by built-int int() method to convert a type to an int.<br>\n",
    "__float__(self)\tTo get called by built-int float() method to convert a type to float.<br>\n",
    "__complex__(self)\tTo get called by built-int complex() method to convert a type to complex.<br>\n",
    "__oct__(self)\tTo get called by built-int oct() method to convert a type to octal.<br>\n",
    "__hex__(self)\tTo get called by built-int hex() method to convert a type to hexadecimal.<br>\n",
    "__index__(self)\tTo get called on type conversion to an int when the object is used in a slice expression.<br>\n",
    "__trunc__(self)\tTo get called from math.trunc() method.<br>\n",
    "\n",
    "#### String Magic Methods<br>\n",
    "__str__(self)\tTo get called by built-int str() method to return a string representation of a type.<br>\n",
    "__repr__(self)\tTo get called by built-int repr() method to return a machine readable representation of a type.<br>\n",
    "__unicode__(self)\tTo get called by built-int unicode() method to return an unicode string of a type.<br>\n",
    "__format__(self, formatstr)\tTo get called by built-int string.format() method to return a new style of string.<br>\n",
    "__hash__(self)\tTo get called by built-int hash() method to return an integer.<br>\n",
    "__nonzero__(self)\tTo get called by built-int bool() method to return True or False.<br>\n",
    "__dir__(self)\tTo get called by built-int dir() method to return a list of attributes of a class.<br>\n",
    "__sizeof__(self)\tTo get called by built-int sys.getsizeof() method to return the size of an object.<br>\n",
    "\n",
    "#### Operator Magic Methods<br>\n",
    "__add__(self, other)\tTo get called on add operation using + operator<br>\n",
    "__sub__(self, other)\tTo get called on subtraction operation using - operator.<br>\n",
    "__mul__(self, other)\tTo get called on multiplication operation using * operator.<br>\n",
    "__floordiv__(self, other)\tTo get called on floor division operation using // operator.<br>\n",
    "__div__(self, other)\tTo get called on division operation using / operator.<br>\n",
    "__mod__(self, other)\tTo get called on modulo operation using % operator.<br>\n",
    "__pow__(self, other[[, modulo]])\tTo get called on calculating the power using ** operator.<br>\n",
    "__lt__(self, other)\tTo get called on comparison using < operator.<br>\n",
    "__le__(self, other)\tTo get called on comparison using <= operator.<br>\n",
    "__eq__(self, other)\tTo get called on comparison using == operator.<br>\n",
    "__ne__(self, other)\tTo get called on comparison using != operator.<br>\n",
    "__ge__(self, other)\tTo get called on comparison using >= operator.<br>"
   ]
  },
  {
   "cell_type": "markdown",
   "execution_count": null,
   "metadata": {},
   "outputs": [],
   "source": [
    "## Metaclasses\n",
    "\n",
    "A metaclass in Python is a class of a class that defines how a class behaves. A class is itself an instance of a metaclass.\n",
    "\n",
    "Everything in Python is an Object."
   ]
  },
  {
   "cell_type": "code",
   "execution_count": null,
   "metadata": {},
   "outputs": [],
   "source": [
    "class TestClass:\n",
    "    pass\n",
    "\n",
    "my_test_class = TestClass()\n",
    "print(TestClass)\n",
    "print(my_test_class)"
   ]
  },
  {
   "cell_type": "code",
   "execution_count": null,
   "metadata": {},
   "outputs": [],
   "source": [
    "print(type(5))\n",
    "print(type([1,2,3]))\n",
    "print(type(object))"
   ]
  },
  {
   "cell_type": "markdown",
   "execution_count": null,
   "metadata": {},
   "outputs": [],
   "source": [
    "### Creating Custom Metaclasses\n",
    "\n",
    "It is possible to subclass type to create an custom metaclass."
   ]
  },
  {
   "cell_type": "code",
   "execution_count": null,
   "metadata": {},
   "outputs": [],
   "source": [
    "class mytype(type):\n",
    "    def __init__(cls, name, bases, dict): \n",
    "        # call the base initializer\n",
    "        type.__init__(cls, name, bases, dict)\n",
    "        # perform custom initialization...        \n",
    "        cls.__custom_attribute__ = 2\n",
    "\n",
    "#Now, we have a new custom mytype metaclass which can be used to create classes in the same manner as type.\n",
    "\n",
    "MyDummy = mytype('MyDummy',(),dict(x=2))\n",
    "print(type(MyDummy))\n",
    "print(MyDummy.__class__)\n",
    "print(MyDummy().__class__.__class__)\n",
    "print(MyDummy.__custom_attribute__)"
   ]
  },
  {
   "cell_type": "markdown",
   "execution_count": null,
   "metadata": {},
   "outputs": [],
   "source": [
    "When we create a new class using the class keyword the metaclass is by default chosen based on upon the base classes."
   ]
  },
  {
   "cell_type": "code",
   "execution_count": null,
   "metadata": {},
   "outputs": [],
   "source": [
    "class Foo(object):\n",
    "    pass\n",
    "print(type(Foo))"
   ]
  },
  {
   "cell_type": "markdown",
   "execution_count": null,
   "metadata": {},
   "outputs": [],
   "source": [
    "In the above example the only baseclass is object so our metaclass will be the type of object, which is type. It is possible override the default."
   ]
  },
  {
   "cell_type": "code",
   "execution_count": null,
   "metadata": {},
   "outputs": [],
   "source": [
    "class MyDummy(metaclass=mytype):\n",
    "    pass\n",
    "print(type(MyDummy))"
   ]
  },
  {
   "cell_type": "markdown",
   "execution_count": null,
   "metadata": {},
   "outputs": [],
   "source": [
    "### Singletons using metaclasses\n",
    "\n",
    "A singleton is a pattern that restricts the instantiation of a class to one instance/object."
   ]
  },
  {
   "cell_type": "code",
   "execution_count": null,
   "metadata": {},
   "outputs": [],
   "source": [
    "class SingletonType(type):\n",
    "    def __call__(cls, *args, **kwargs):\n",
    "        try:\n",
    "            return cls.__instance\n",
    "        except AttributeError:            \n",
    "            cls.__instance =super(SingletonType, cls).__call__(*args, **kwargs)\n",
    "            return cls.__instance\n",
    "\n",
    "class MySingleton(metaclass=SingletonType):\n",
    "    pass\n",
    "\n",
    "print(MySingleton() is MySingleton())\n",
    "print(type(MySingleton))"
   ]
  },
  {
   "cell_type": "markdown",
   "execution_count": null,
   "metadata": {},
   "outputs": [],
   "source": [
    "###  Custom functionality with metaclasses\n",
    "Functionality in metaclasses can be changed so that whenever a class is built, a string is printed to standard output, or an exception is thrown. This metaclass will print the name of the class being built."
   ]
  },
  {
   "cell_type": "code",
   "execution_count": null,
   "metadata": {},
   "outputs": [],
   "source": [
    "class VerboseMetaclass(type):\n",
    "    def __new__(cls, class_name, class_parents, class_dict):\n",
    "        print(\"Creating class \", class_name)        \n",
    "        new_class = super().__new__(cls, class_name, class_parents, class_dict)\n",
    "        return new_class\n",
    "\n",
    "class Spam(metaclass=VerboseMetaclass):\n",
    "    def eggs(self):\n",
    "        print(\"[insert example string here]\")\n",
    "s = Spam()\n",
    "s.eggs()"
   ]
  },
  {
   "cell_type": "markdown",
   "execution_count": null,
   "metadata": {},
   "outputs": [],
   "source": [
    "##  Multithreading\n",
    "\n",
    "Using the threading module, a new thread of execution may be started by creating a new threading."
   ]
  },
  {
   "cell_type": "code",
   "execution_count": null,
   "metadata": {},
   "outputs": [],
   "source": [
    "import threading\n",
    "def foo():\n",
    "    print(\"Hello threading!\")\n",
    "my_thread =threading.Thread(target=foo)"
   ]
  },
  {
   "cell_type": "markdown",
   "execution_count": null,
   "metadata": {},
   "outputs": [],
   "source": [
    "### Starting a Thread"
   ]
  },
  {
   "cell_type": "code",
   "execution_count": null,
   "metadata": {},
   "outputs": [],
   "source": [
    "my_thread.start()"
   ]
  },
  {
   "cell_type": "markdown",
   "execution_count": null,
   "metadata": {},
   "outputs": [],
   "source": [
    "Now that my_thread has run and terminated, calling start again will produce a RuntimeError. If you'd like to run your thread as a daemon, setting my_thread.daemon to True before calling start(), causes your Thread to run silently in the background as a daemon."
   ]
  },
  {
   "cell_type": "markdown",
   "execution_count": null,
   "metadata": {},
   "outputs": [],
   "source": [
    "### Joining a Thread\n",
    "\n",
    "In cases where you split up one big job into several small ones and want to run them concurrently, but need to wait for all of them to finish before continuing, Thread.join() is the method you're looking for. For example see cb_sync.checkout"
   ]
  },
  {
   "cell_type": "markdown",
   "execution_count": null,
   "metadata": {},
   "outputs": [],
   "source": [
    "### Create a Custom Thread Class\n",
    "\n",
    "Using threading.Thread class we can subclass new custom Thread class. We must override run method in a subclass."
   ]
  },
  {
   "cell_type": "code",
   "execution_count": null,
   "metadata": {},
   "outputs": [],
   "source": [
    "from threading import Thread\n",
    "import time\n",
    "class Sleepy(Thread):\n",
    "    def run(self):\n",
    "        time.sleep(5)\n",
    "        print(\"Hello form Thread\")\n",
    "        \n",
    "if __name__ ==\"__main__\":    \n",
    "    t = Sleepy()    \n",
    "    t.start()\n",
    "    t.join()\n",
    "    print(\"The main program continues to run in the foreground.\")"
   ]
  },
  {
   "cell_type": "markdown",
   "execution_count": null,
   "metadata": {},
   "outputs": [],
   "source": [
    "###  Communicating between threads\n",
    "\n",
    "There are multiple threads in your code and you need to safely communicate between them.\n",
    "\n",
    "You can use a Queue from the queue library. Queue objects can be safely shared between threads (any amount of threads, actually)"
   ]
  },
  {
   "cell_type": "code",
   "execution_count": null,
   "metadata": {},
   "outputs": [],
   "source": [
    "from queue import Queue\n",
    "from threading import Thread\n",
    "\n",
    "def producer(output_queue):\n",
    "    while True:        \n",
    "        data = data_computation()        \n",
    "        output_queue.put(data)\n",
    "\n",
    "def consumer(input_queue):\n",
    "    while True:\n",
    "        data = input_queue.get()\n",
    "        input_queue.task_done()\n",
    "\n",
    "q =Queue()\n",
    "t1 = Thread(target=consumer, args=(q,))\n",
    "t2 = Thread(target=producer, args=(q,))\n",
    "t1.start()\n",
    "t2.start()"
   ]
  },
  {
   "cell_type": "markdown",
   "execution_count": null,
   "metadata": {},
   "outputs": [],
   "source": [
    "### Synchronizing Threads\n",
    "\n",
    "The threading module provided with Python includes a simple-to-implement locking mechanism that allows you to synchronize threads. A new lock is created by calling the Lock() method, which returns the new lock.\n",
    "\n",
    "The acquire(blocking) method of the new lock object is used to force threads to run synchronously.\n",
    "\n",
    "The release() method should only be called in the locked state; it changes the state to unlocked and returns immediately. If an attempt is made to release an unlocked lock, a RuntimeError will be raised."
   ]
  },
  {
   "cell_type": "code",
   "execution_count": null,
   "metadata": {},
   "outputs": [],
   "source": [
    "import threading\n",
    "import time\n",
    "import logging\n",
    "import random\n",
    "\n",
    "logging.basicConfig(level=logging.DEBUG,\n",
    "                    format='(%(threadName)-9s) %(message)s',)\n",
    "                    \n",
    "class Counter(object):\n",
    "    def __init__(self, start = 0):\n",
    "        self.lock = threading.Lock()\n",
    "        self.value = start\n",
    "    def increment(self):\n",
    "        logging.debug('Waiting for a lock')\n",
    "        self.lock.acquire()\n",
    "        try:\n",
    "            logging.debug('Acquired a lock')\n",
    "            self.value = self.value + 1\n",
    "        finally:\n",
    "            logging.debug('Released a lock')\n",
    "            self.lock.release()\n",
    "\n",
    "def worker(c):\n",
    "    for i in range(2):\n",
    "        r = random.random()\n",
    "        logging.debug('Sleeping %0.02f', r)\n",
    "        time.sleep(r)\n",
    "        c.increment()\n",
    "    logging.debug('Done')\n",
    "\n",
    "if __name__ == '__main__':\n",
    "    counter = Counter()\n",
    "    for i in range(2):\n",
    "        t = threading.Thread(target=worker, args=(counter,))\n",
    "        t.start()\n",
    "\n",
    "    logging.debug('Waiting for worker threads')\n",
    "    main_thread = threading.currentThread()\n",
    "    for t in threading.enumerate():\n",
    "        if t is not main_thread:\n",
    "            t.join()\n",
    "    logging.debug('Counter: %d', counter.value)"
   ]
  },
  {
   "cell_type": "markdown",
   "execution_count": null,
   "metadata": {},
   "outputs": [],
   "source": [
    "You can use 'with' with Lock, so that whenever enters in the with block the Lock automatically gets acquired and released when the scope gets ended."
   ]
  },
  {
   "cell_type": "code",
   "execution_count": null,
   "metadata": {},
   "outputs": [],
   "source": [
    "import threading\n",
    "import time\n",
    "import inspect\n",
    "\n",
    "class Thread(threading.Thread):\n",
    "    def __init__(self, t, *args):\n",
    "        threading.Thread.__init__(self, target=t, args=args)\n",
    "        self.start()\n",
    "\n",
    "count = 0\n",
    "lock = threading.Lock()\n",
    "\n",
    "def incre():\n",
    "    global count\n",
    "    caller = inspect.getouterframes(inspect.currentframe())[1][3]\n",
    "    print(\"Inside %s()\" % caller)\n",
    "    print(\"Acquiring lock\")\n",
    "    with lock:\n",
    "        print(\"Lock Acquired\")\n",
    "        count += 1  \n",
    "        time.sleep(2)  \n",
    "\n",
    "def bye():\n",
    "    while count < 5:\n",
    "        incre()\n",
    "\n",
    "def hello_there():\n",
    "    while count < 5:\n",
    "        incre()\n",
    "\n",
    "def main():    \n",
    "    hello = Thread(hello_there)\n",
    "    goodbye = Thread(bye)\n",
    "\n",
    "\n",
    "if __name__ == '__main__':\n",
    "    main()"
   ]
  },
  {
   "cell_type": "markdown",
   "execution_count": null,
   "metadata": {},
   "outputs": [],
   "source": [
    "## Decorators\n",
    "\n",
    "A decorator takes in a function, adds some functionality and returns it. This is also called metaprogramming as a part of the program tries to modify another part of the program at compile time."
   ]
  },
  {
   "cell_type": "code",
   "execution_count": null,
   "metadata": {},
   "outputs": [],
   "source": [
    "def make_pretty(func):\n",
    "    def inner():\n",
    "        print(\"I got decorated\")\n",
    "        func()\n",
    "    return inner\n",
    "\n",
    "def ordinary():\n",
    "    print(\"I am ordinary\")\n",
    "\n",
    "ordinary()\n",
    "pretty = make_pretty(ordinary)\n",
    "pretty()"
   ]
  },
  {
   "cell_type": "markdown",
   "execution_count": null,
   "metadata": {},
   "outputs": [],
   "source": [
    "We can use the @ symbol along with the name of the decorator function and place it above the definition of the function to be decorated."
   ]
  },
  {
   "cell_type": "code",
   "execution_count": null,
   "metadata": {},
   "outputs": [],
   "source": [
    "@make_pretty\n",
    "def ordinary():\n",
    "    print(\"I am ordinary\")\n",
    "\n",
    "ordinary()"
   ]
  },
  {
   "cell_type": "markdown",
   "execution_count": null,
   "metadata": {},
   "outputs": [],
   "source": [
    "### Decorating Functions with Parameters"
   ]
  },
  {
   "cell_type": "code",
   "execution_count": null,
   "metadata": {},
   "outputs": [],
   "source": [
    "def divide(a, b):\n",
    "    return a/b\n",
    "print(divide(2,5))"
   ]
  },
  {
   "cell_type": "code",
   "execution_count": null,
   "metadata": {},
   "outputs": [],
   "source": [
    "print(divide(2,0))"
   ]
  },
  {
   "cell_type": "markdown",
   "execution_count": null,
   "metadata": {},
   "outputs": [],
   "source": [
    "Now let's make a decorator to check for this case that will cause the error."
   ]
  },
  {
   "cell_type": "code",
   "execution_count": null,
   "metadata": {},
   "outputs": [],
   "source": [
    "def smart_divide(func):\n",
    "   def inner(a,b):\n",
    "      print(\"I am going to divide\",a,\"and\",b)\n",
    "      if b == 0:\n",
    "         print(\"Whoops! cannot divide\")\n",
    "         return\n",
    "\n",
    "      return func(a,b)\n",
    "   return inner\n",
    "\n",
    "@smart_divide\n",
    "def divide(a,b):\n",
    "    return a/b\n",
    "\n",
    "print(divide(2,0))"
   ]
  },
  {
   "cell_type": "markdown",
   "execution_count": null,
   "metadata": {},
   "outputs": [],
   "source": [
    "### Chaining Decorators in Python\n",
    "\n",
    "Multiple decorators can be chained in Python.\n",
    "\n"
   ]
  },
  {
   "cell_type": "code",
   "execution_count": null,
   "metadata": {},
   "outputs": [],
   "source": [
    "def star(func):\n",
    "    def inner(*args, **kwargs):\n",
    "        print(\"*\" * 30)\n",
    "        func(*args, **kwargs)\n",
    "        print(\"*\" * 30)\n",
    "    return inner\n",
    "\n",
    "def percent(func):\n",
    "    def inner(*args, **kwargs):\n",
    "        print(\"%\" * 30)\n",
    "        func(*args, **kwargs)\n",
    "        print(\"%\" * 30)\n",
    "    return inner\n",
    "\n",
    "@star\n",
    "@percent\n",
    "def printer(msg):\n",
    "    print(msg)\n",
    "printer(\"Hello\")"
   ]
  },
  {
   "cell_type": "markdown",
   "execution_count": null,
   "metadata": {},
   "outputs": [],
   "source": [
    "### @property Decorator\n",
    "\n",
    "@property decorator is a built-in decorator in Python for the property() function. "
   ]
  },
  {
   "cell_type": "code",
   "execution_count": null,
   "metadata": {},
   "outputs": [],
   "source": [
    "class person:\n",
    "    def __init__(self):\n",
    "        self.__name=''\n",
    "\n",
    "    @property\n",
    "    def name(self):\n",
    "        return self.__name\n",
    "\n",
    "    @name.setter\n",
    "    def name(self, value):\n",
    "        self.__name=value\n",
    "\n",
    "    @name.deleter\n",
    "    def name(self):\n",
    "        print('Deleting..')\n",
    "        del self.__name\n",
    "\n",
    "p=person()\n",
    "p.name='Steve' \n",
    "print(p.name)\n",
    "del p.name\n",
    "print(p.name)"
   ]
  },
  {
   "cell_type": "markdown",
   "execution_count": null,
   "metadata": {},
   "outputs": [],
   "source": [
    "## Unit testing \n",
    "\n",
    "The unittest unit testing framework was originally inspired by JUnit and has a similar flavor as major unit testing frameworks in other languages. It supports test automation, sharing of setup and shutdown code for tests, aggregation of tests into collections, and independence of the tests from the reporting framework.\n",
    "\n",
    "<b>test fixture</b>\n",
    "\n",
    "&emsp;&emsp;A test fixture represents the preparation needed to perform one or more tests, and any associated cleanup actions. This may involve, for example, creating temporary or proxy databases, directories, or starting a server process.\n",
    "\n",
    "<b>test case</b>\n",
    "\n",
    "&emsp;&emsp;A test case is the individual unit of testing. It checks for a specific response to a particular set of inputs. unittest provides a base class, TestCase, which may be used to create new test cases.\n",
    "\n",
    "<b>test suite</b>\n",
    "\n",
    "&emsp;&emsp;A test suite is a collection of test cases, test suites, or both. It is used to aggregate tests that should be executed together.\n",
    "\n",
    "<b>test runner</b>\n",
    "\n",
    "&emsp;&emsp;A test runner is a component which orchestrates the execution of tests and provides the outcome to the user. The runner may use a graphical interface, a textual interface, or return a special value to indicate the results of executing the tests.\n"
   ]
  },
  {
   "cell_type": "code",
   "execution_count": null,
   "metadata": {},
   "outputs": [],
   "source": [
    "# Basic example\n",
    "\n",
    "import unittest\n",
    "\n",
    "class TestStringMethods(unittest.TestCase):\n",
    "    def test_upper(self):\n",
    "        self.assertEqual('foo'.upper(), 'FOO')\n",
    "\n",
    "    def test_isupper(self):\n",
    "        self.assertTrue('FOO'.isupper())\n",
    "        self.assertFalse('Foo'.isupper())\n",
    "\n",
    "    def test_split(self):\n",
    "        s = 'hello world'\n",
    "        self.assertEqual(s.split(), ['hello', 'world'])\n",
    "        # check that s.split fails when the separator is not a string\n",
    "        with self.assertRaises(TypeError):\n",
    "            s.split(2)\n",
    "\n",
    "if __name__ == '__main__':\n",
    "    unittest.main(argv=['first-arg-is-ignored'], exit=False)"
   ]
  },
  {
   "cell_type": "code",
   "execution_count": null,
   "metadata": {},
   "outputs": [],
   "source": [
    "import unittest\n",
    "\n",
    "class SomeTest(unittest.TestCase):\n",
    "    def setUp(self):\n",
    "        super(SomeTest,self).setUp()\n",
    "        self.mock_data=[1,2,3,4,5]\n",
    "    \n",
    "    def test(self):\n",
    "        self.assertEqual(len(self.mock_data),5)\n",
    "        \n",
    "    def tearDown(self):\n",
    "        super(SomeTest,self).tearDown()\n",
    "        self.mock_data=[]\n",
    "        \n",
    "if __name__ =='__main__':\n",
    "    unittest.main(argv=['first-arg-is-ignored'], exit=False)"
   ]
  },
  {
   "cell_type": "markdown",
   "execution_count": null,
   "metadata": {},
   "outputs": [],
   "source": [
    "### Asserting on Exceptions\n",
    "\n",
    "You can test that a function throws an exception with the built-in unittest through two different methods.\n",
    "\n",
    "* Using a context manager"
   ]
  },
  {
   "cell_type": "code",
   "execution_count": null,
   "metadata": {},
   "outputs": [],
   "source": [
    "def division_function(dividend, divisor):\n",
    "    return dividend / divisor\n",
    "class MyTestCase(unittest.TestCase):\n",
    "    def test_using_context_manager(self):\n",
    "        with self.assertRaises(ZeroDivisionError):\n",
    "            x = division_function(1, 0)\n",
    "        self.assertEqual(ex.message, 'integer division or modulo by zero')"
   ]
  },
  {
   "cell_type": "markdown",
   "execution_count": null,
   "metadata": {},
   "outputs": [],
   "source": [
    "This will run the code inside of the context manager and, if it succeeds, it will fail the test because the exception was not raised. If the code raises an exception of the correct type, the test will continue."
   ]
  },
  {
   "cell_type": "markdown",
   "execution_count": null,
   "metadata": {},
   "outputs": [],
   "source": [
    "* By providing a callable function"
   ]
  },
  {
   "cell_type": "code",
   "execution_count": null,
   "metadata": {},
   "outputs": [],
   "source": [
    "def division_function(dividend, divisor):\n",
    "    \"\"\"\n",
    "    Dividing two numbers.\n",
    "    :type dividend: int\n",
    "    :type divisor: int\n",
    "    :raises: ZeroDivisionError if divisor is zero (0).\n",
    "    :rtype: int\n",
    "    \"\"\"\n",
    "    return dividend / divisor\n",
    "    \n",
    "class MyTestCase(unittest.TestCase):\n",
    "    def test_passing_function(self):\n",
    "        self.assertRaises(ZeroDivisionError, division_function, 1, 0)"
   ]
  },
  {
   "cell_type": "markdown",
   "execution_count": null,
   "metadata": {},
   "outputs": [],
   "source": [
    "### Testing Exceptions\n",
    "\n",
    "Programs throw errors when for instance wrong input is given. Because of this, one needs to make sure that an\n",
    "error is thrown when actual wrong input is given."
   ]
  },
  {
   "cell_type": "code",
   "execution_count": null,
   "metadata": {},
   "outputs": [],
   "source": [
    "# This exception is raised when wrong input is given, in the following context where we always expect a number as text input.\n",
    "\n",
    "class WrongInputException(Exception):\n",
    "    pass\n",
    "\n",
    "def convert2number(random_input):\n",
    "    try:\n",
    "        my_input = int(random_input)\n",
    "    except ValueError:\n",
    "        raise WrongInputException(\"Expected an integer!\")\n",
    "    return my_input"
   ]
  },
  {
   "cell_type": "markdown",
   "execution_count": null,
   "metadata": {},
   "outputs": [],
   "source": [
    "To check whether an exception has been raised, we use assertRaises to check for that exception. assertRaises can be used in two ways:\n",
    "\n",
    "1. Using the regular function call. The first argument takes the exception type, second a callable (usually a function) and the rest of arguments are passed to this callable.\n",
    "\n",
    "2. Using a with clause, giving only the exception type to the function. This has as advantage that more code can be executed, but should be used with care since multiple functions can use the same exception which can be problematic. An example: with self.assertRaises(WrongInputException): convert2number(\"not a number\")"
   ]
  },
  {
   "cell_type": "code",
   "execution_count": null,
   "metadata": {},
   "outputs": [],
   "source": [
    "# Using the regular function call. The first argument takes the exception type, second a callable (usually a function) and the rest of arguments are passed to this callable.\n",
    "\n",
    "import unittest\n",
    "class ExceptionTestCase(unittest.TestCase):\n",
    "    def test_wrong_input_string(self):\n",
    "        self.assertRaises(WrongInputException, convert2number, \"not a number\")\n",
    "    def test_correct_input(self):\n",
    "        try:\n",
    "            result = convert2number(\"56\")\n",
    "            self.assertIsInstance(result, int)\n",
    "        except WrongInputException:\n",
    "            self.fail()"
   ]
  },
  {
   "cell_type": "markdown",
   "execution_count": null,
   "metadata": {},
   "outputs": [],
   "source": [
    "### Choosing Assertions Within Unittests\n",
    "\n",
    "While Python has an assert statement, the Python unit testing framework has better assertions specialized for tests: they are more informative on failures, and do not depend on the execution's debug mode."
   ]
  },
  {
   "cell_type": "code",
   "execution_count": null,
   "metadata": {},
   "outputs": [],
   "source": [
    "import unittest\n",
    "class SimplisticTest(unittest.TestCase):\n",
    "    def test_basic(self):\n",
    "        self.assertTrue(1 + 1 == 2)"
   ]
  },
  {
   "cell_type": "markdown",
   "execution_count": null,
   "metadata": {},
   "outputs": [],
   "source": [
    "This will run fine, but replacing the line above with\n",
    "\n",
    "*self.assertTrue(1 + 1 == 3)*\n",
    "\n",
    "will fail."
   ]
  },
  {
   "cell_type": "markdown",
   "execution_count": null,
   "metadata": {},
   "outputs": [],
   "source": [
    "The assertTrue assertion is quite likely the most general assertion, as anything tested can be cast as some boolean condition, but often there are better alternatives. When testing for equality, as above, it is better to write"
   ]
  },
  {
   "cell_type": "code",
   "execution_count": null,
   "metadata": {},
   "outputs": [],
   "source": [
    "self.assertEqual(1 + 1, 3)"
   ]
  },
  {
   "cell_type": "markdown",
   "execution_count": null,
   "metadata": {},
   "outputs": [],
   "source": [
    "When the former fails, the message is\n",
    "\n",
    "======================================================================\n",
    "FAIL: test (__main__.TruthTest)\n",
    "----------------------------------------------------------------------\n",
    "Traceback (most recent call last):\n",
    "File \"stuff.py\", line 6, in test\n",
    "self.assertTrue(1 + 1 == 3)\n",
    "AssertionError: False is not true\n",
    "\n",
    "but when the latter fails, the message is\n",
    "\n",
    "======================================================================\n",
    "FAIL: test (__main__.TruthTest)\n",
    "----------------------------------------------------------------------\n",
    "Traceback (most recent call last):\n",
    "File \"stuff.py\", line 6, in test\n",
    "self.assertEqual(1 + 1, 3)\n",
    "AssertionError: 2 != 3\n",
    "\n",
    "which is more informative (it actually evaluated the result of the left hand side)."
   ]
  },
  {
   "cell_type": "markdown",
   "execution_count": null,
   "metadata": {},
   "outputs": [],
   "source": [
    "## unittest.mock\n",
    "\n",
    "unittest.mock is a library for testing in Python. It allows you to replace parts of your system under test with mock objects and make assertions about how they have been used.\n",
    "\n",
    "Mock and MagicMock objects create all attributes and methods as you access them and store details of how they have been used. You can configure them, to specify return values or limit what attributes are available, and then make assertions about how they have been used"
   ]
  },
  {
   "cell_type": "code",
   "execution_count": null,
   "metadata": {},
   "outputs": [],
   "source": [
    "from unittest.mock import MagicMock\n",
    "\n",
    "class ProductionClass:\n",
    "    def method(a, b, c, key):\n",
    "        print(\"Method got called!\")\n",
    "        return 5\n",
    "\n",
    "thing = ProductionClass()\n",
    "thing.method = MagicMock(return_value=3)\n",
    "thing.method(3, 4, 5, key='value')"
   ]
  },
  {
   "cell_type": "markdown",
   "execution_count": null,
   "metadata": {},
   "outputs": [],
   "source": [
    "side_effect allows you to perform side effects, including raising an exception when a mock is called"
   ]
  },
  {
   "cell_type": "code",
   "execution_count": null,
   "metadata": {},
   "outputs": [],
   "source": [
    "from unittest.mock import Mock\n",
    "\n",
    "mock = Mock(side_effect=[None, KeyError('foo')])\n",
    "print(mock())\n",
    "mock()"
   ]
  },
  {
   "cell_type": "markdown",
   "execution_count": null,
   "metadata": {},
   "outputs": [],
   "source": [
    "<b>Note: From now on please see cb_sync unit tests for example</b>"
   ]
  },
  {
   "cell_type": "markdown",
   "execution_count": null,
   "metadata": {},
   "outputs": [],
   "source": [
    "The patch() decorator / context manager makes it easy to mock classes or objects in a module under test. "
   ]
  },
  {
   "cell_type": "markdown",
   "execution_count": null,
   "metadata": {},
   "outputs": [],
   "source": [
    "### assert_called()\n",
    "\n",
    "Assert that the mock was called at least once.\n",
    "\n",
    "mock = Mock()<br>\n",
    "\n",
    "mock.method()<br>\n",
    "&lt;Mock name='mock.method()' id='...'&gt;\n",
    "\n",
    "mock.method.assert_called()<br>"
   ]
  },
  {
   "cell_type": "markdown",
   "execution_count": null,
   "metadata": {},
   "outputs": [],
   "source": [
    "### assert_called_once()\n",
    "\n",
    "Assert that the mock was called exactly once.\n",
    "\n",
    "\n",
    "mock = Mock()<br>\n",
    "mock.method()<br>\n",
    "\n",
    "&lt;Mock name='mock.method()' id='...'&gt;<br>\n",
    "mock.method.assert_called_once()<br>\n",
    "\n",
    "mock.method()<br>\n",
    "&lt;Mock name='mock.method()' id='...'&gt;<br>\n",
    "mock.method.assert_called_once()<br>\n",
    "\n",
    "Traceback (most recent call last):<br>\n",
    "...<br>\n",
    "AssertionError: Expected 'method' to have been called once. Called 2 times."
   ]
  },
  {
   "cell_type": "markdown",
   "execution_count": null,
   "metadata": {},
   "outputs": [],
   "source": [
    "### assert_called_with(*args, **kwargs)\n",
    "\n",
    "This method is a convenient way of asserting that the last call has been made in a particular way:\n",
    "\n",
    "mock = Mock()<br>\n",
    "mock.method(1, 2, 3, test='wow')<br>\n",
    "&lt;Mock name='mock.method()' id='...'&gt;\n",
    "\n",
    "mock.method.assert_called_with(1, 2, 3, test='wow')\n",
    "\n"
   ]
  },
  {
   "cell_type": "markdown",
   "execution_count": null,
   "metadata": {},
   "outputs": [],
   "source": [
    "### assert_called_once_with(*args, **kwargs)\n",
    "\n",
    "Assert that the mock was called exactly once and that that call was with the specified arguments.\n",
    "\n",
    "\n",
    "mock = Mock(return_value=None)\n",
    "\n",
    "mock('foo', bar='baz')\n",
    "\n",
    "mock.assert_called_once_with('foo', bar='baz')\n",
    "\n",
    "mock('other', bar='values')\n",
    "\n",
    "mock.assert_called_once_with('other', bar='values')<br>\n",
    "Traceback (most recent call last):\n",
    "\n",
    "AssertionError: Expected 'mock' to be called once. Called 2 times."
   ]
  },
  {
   "cell_type": "markdown",
   "execution_count": null,
   "metadata": {},
   "outputs": [],
   "source": [
    " ## assert_not_called()\n",
    "\n",
    "Assert the mock was never called.\n",
    "\n",
    "m = Mock()\n",
    "\n",
    "m.hello.assert_not_called()\n",
    "\n",
    "obj = m.hello()\n",
    "\n",
    "m.hello.assert_not_called()<br>\n",
    "Traceback (most recent call last):<br>\n",
    "  ...<br>\n",
    "AssertionError: Expected 'hello' to not have been called. Called 1 times."
   ]
  },
  {
   "cell_type": "markdown",
   "execution_count": null,
   "metadata": {},
   "outputs": [],
   "source": [
    " ### assert_has_calls(calls, any_order=False)\n",
    "\n",
    "* assert the mock has been called with the specified calls. The mock_calls list is checked for the calls.\n",
    "\n",
    "* If any_order is false then the calls must be sequential. There can be extra calls before or after the specified calls.\n",
    "\n",
    "* If any_order is true then the calls can be in any order, but they must all appear in mock_calls.\n",
    "\n",
    "\n",
    "mock = Mock(return_value=None)\n",
    "\n",
    "mock(1)\n",
    "\n",
    "mock(2)\n",
    "\n",
    "mock(3)\n",
    "\n",
    "mock(4)\n",
    "\n",
    "calls = [[call(2), call(3)]]\n",
    "\n",
    "mock.assert_has_calls(calls)\n",
    "\n",
    "calls = [[call(4), call(2), call(3)]]\n",
    "\n",
    "mock.assert_has_calls(calls, any_order=True)"
   ]
  },
  {
   "cell_type": "markdown",
   "execution_count": null,
   "metadata": {},
   "outputs": [],
   "source": [
    " ### reset_mock(*, return_value=False, side_effect=False)\n",
    "\n",
    "The reset_mock method resets all the call attributes on a mock object\n",
    "\n",
    "mock = Mock(return_value=None)\n",
    "\n",
    "mock('hello')\n",
    "\n",
    "mock.called<br>\n",
    "True\n",
    "\n",
    "mock.reset_mock()\n",
    "\n",
    "mock.called<br>\n",
    "False\n"
   ]
  },
  {
   "cell_type": "markdown",
   "execution_count": null,
   "metadata": {},
   "outputs": [],
   "source": [
    " ### called\n",
    "\n",
    "A boolean representing whether or not the mock object has been called\n",
    "\n",
    "mock = Mock(return_value=None)\n",
    "\n",
    "mock.called<br>\n",
    "False\n",
    "\n",
    "mock()\n",
    "\n",
    "mock.called<br>\n",
    "True"
   ]
  },
  {
   "cell_type": "markdown",
   "execution_count": null,
   "metadata": {},
   "outputs": [],
   "source": [
    "### call_count\n",
    "\n",
    "An integer telling you how many times the mock object has been called:\n",
    "\n",
    "\n",
    "mock = Mock(return_value=None)\n",
    "\n",
    "mock.call_count<br>\n",
    "0\n",
    "\n",
    "mock()\n",
    "\n",
    "mock()\n",
    "\n",
    "mock.call_count<br>\n",
    "2\n"
   ]
  },
  {
   "cell_type": "markdown",
   "execution_count": null,
   "metadata": {},
   "outputs": [],
   "source": [
    "### return_value\n",
    "\n",
    "Set this to configure the value returned by calling the mock:\n",
    "\n",
    "\n",
    "mock = Mock()\n",
    "\n",
    "mock.return_value = 'fish'\n",
    "\n",
    "mock()<br>\n",
    "'fish'"
   ]
  },
  {
   "cell_type": "markdown",
   "execution_count": null,
   "metadata": {},
   "outputs": [],
   "source": [
    "### call_args\n",
    "\n",
    "This is either None (if the mock hasn’t been called), or the arguments that the mock was last called with. This will be in the form of a tuple: the first member, which can also be accessed through the args property, is any ordered arguments the mock was called with (or an empty tuple) and the second member, which can also be accessed through the kwargs property, is any keyword arguments (or an empty dictionary).\n",
    "\n",
    "mock = Mock(return_value=None)\n",
    "\n",
    "print(mock.call_args)<br>\n",
    "None\n",
    "\n",
    "mock()\n",
    "\n",
    "mock.call_args<br>\n",
    "call()\n",
    "\n",
    "mock.call_args == ()<br>\n",
    "True\n",
    "\n",
    "mock(3, 4)\n",
    "\n",
    "mock.call_args<br>\n",
    "call(3, 4)\n",
    "\n",
    "mock.call_args == ((3, 4),)<br>\n",
    "True\n",
    "\n",
    "mock.call_args.args<br>\n",
    "(3, 4)\n",
    "\n",
    "mock.call_args.kwargs<br>\n",
    "{}\n",
    "\n",
    "mock(3, 4, 5, key='fish', next='w00t!')<br>\n",
    "\n",
    "mock.call_args<br>\n",
    "call(3, 4, 5, key='fish', next='w00t!')<br>\n",
    "\n",
    "mock.call_args.args<br>\n",
    "(3, 4, 5)\n",
    "\n",
    "mock.call_args.kwargs<br>\n",
    "{'key': 'fish', 'next': 'w00t!'}"
   ]
  },
  {
   "cell_type": "markdown",
   "execution_count": null,
   "metadata": {},
   "outputs": [],
   "source": [
    "# END"
   ]
  }
 ]
}