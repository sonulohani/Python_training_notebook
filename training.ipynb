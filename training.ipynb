{
 "nbformat": 4,
 "nbformat_minor": 2,
 "metadata": {
  "language_info": {
   "name": "python",
   "codemirror_mode": {
    "name": "ipython",
    "version": 3
   },
   "version": "3.7.4-final"
  },
  "orig_nbformat": 2,
  "file_extension": ".py",
  "mimetype": "text/x-python",
  "name": "python",
  "npconvert_exporter": "python",
  "pygments_lexer": "ipython3",
  "version": 3,
  "kernelspec": {
   "name": "python37464bitbasecondaf706bf4aaab5449bbdac8649101639c2",
   "display_name": "Python 3.7.4 64-bit ('base': conda)"
  }
 },
 "cells": [
  {
   "cell_type": "markdown",
   "metadata": {},
   "source": [
    "## Class\n",
    "A class is a user-defined blueprint or prototype from which objects are created. "
   ]
  },
  {
   "cell_type": "code",
   "execution_count": 49,
   "metadata": {},
   "outputs": [
    {
     "name": "stdout",
     "output_type": "stream",
     "text": "John\n36\n"
    }
   ],
   "source": [
    "class Person:\n",
    "  def __init__(self, name, age):\n",
    "    self.name = name\n",
    "    self.age = age\n",
    "\n",
    "p1 = Person(\"John\", 36)\n",
    "\n",
    "print(p1.name)\n",
    "print(p1.age)"
   ]
  },
  {
   "cell_type": "markdown",
   "metadata": {},
   "source": [
    "## The __init__() Function\n",
    "All classes have a function called __init__(), which is always executed when the class is being initiated.\n",
    "\n",
    "Use the __init__() function to assign values to object properties, or other operations that are necessary to do when the object is being created."
   ]
  },
  {
   "cell_type": "markdown",
   "metadata": {},
   "source": [
    "## Class and static methods\n",
    "Class methods work the same way as regular methods, except that when invoked on an object they bind to the class of the object instead of to the object. \n",
    "\n",
    "Static methods are even simpler: they don't bind anything at all, and simply return the underlying function without any transformations."
   ]
  },
  {
   "cell_type": "code",
   "execution_count": 51,
   "metadata": {},
   "outputs": [
    {
     "name": "stdout",
     "output_type": "stream",
     "text": "<bound method D.f of <class '__main__.D'>>\n24\n<function D.g at 0x000002199A3FC8B8>\nHello, world\n"
    }
   ],
   "source": [
    "class D(object):\n",
    "    multiplier = 2\n",
    "    @classmethod\n",
    "    def f(cls, x):\n",
    "        return cls.multiplier * x\n",
    "    @staticmethod\n",
    "    def g(name):\n",
    "        print(\"Hello, %s\" % name)\n",
    "\n",
    "print(D.f)\n",
    "print(D.f(12))\n",
    "print(D.g)\n",
    "D.g('world')"
   ]
  },
  {
   "cell_type": "markdown",
   "metadata": {},
   "source": [
    "## Class methods: alternate initializers\n",
    "Class methods present alternate ways to build instances of classes. To illustrate, let's look at an example."
   ]
  },
  {
   "cell_type": "code",
   "execution_count": 52,
   "metadata": {},
   "outputs": [
    {
     "name": "stdout",
     "output_type": "stream",
     "text": "Hello, my name is Bob Bobberson.\nHello, my name is Alice Henderson.\n"
    }
   ],
   "source": [
    "class Person(object):\n",
    "    def __init__(self, first_name, last_name, age):\n",
    "        self.first_name = first_name\n",
    "        self.last_name = last_name\n",
    "        self.age = age\n",
    "        self.full_name = first_name + \" \" + last_name\n",
    "\n",
    "    @classmethod\n",
    "    def from_full_name(cls, name, age):\n",
    "        if \" \" not in name:\n",
    "            raise ValueError\n",
    "        first_name, last_name = name.split(\" \", 2)\n",
    "        return cls(first_name, last_name, age)\n",
    "\n",
    "    def greet(self):\n",
    "        print(\"Hello, my name is \" + self.full_name + \".\")\n",
    "\n",
    "bob = Person(\"Bob\", \"Bobberson\", 42)\n",
    "alice = Person.from_full_name(\"Alice Henderson\", 31)\n",
    "bob.greet()\n",
    "alice.greet()"
   ]
  },
  {
   "cell_type": "markdown",
   "metadata": {},
   "source": [
    "## Basic inheritance\n",
    "Inheritance in Python is based on similar ideas used in other object oriented languages like Java, C++ etc. A new class can be derived from an existing class as follows."
   ]
  },
  {
   "cell_type": "code",
   "execution_count": 53,
   "metadata": {},
   "outputs": [],
   "source": [
    "class BaseClass(object):\n",
    "    pass\n",
    "class DerivedClass(BaseClass):\n",
    "    pass"
   ]
  },
  {
   "cell_type": "markdown",
   "metadata": {},
   "source": [
    "The BaseClass is the already existing (parent) class, and the DerivedClass is the new (child) class that inherits (or\n",
    "subclasses) attributes from BaseClass."
   ]
  },
  {
   "cell_type": "code",
   "execution_count": 58,
   "metadata": {},
   "outputs": [
    {
     "name": "stdout",
     "output_type": "stream",
     "text": "Area of square is 25\nPermeter of square is 20\n"
    }
   ],
   "source": [
    "class Rectangle():\n",
    "    def __init__(self, w, h):\n",
    "        self.w = w\n",
    "        self.h = h\n",
    "\n",
    "    def area(self):\n",
    "        return self.w * self.h\n",
    "\n",
    "    def perimeter(self):\n",
    "        return 2 * (self.w + self.h)\n",
    "\n",
    "class Square(Rectangle):\n",
    "    def __init__(self, s):\n",
    "        # call parent constructor, w and h are both s\n",
    "        super(Square, self).__init__(s, s)\n",
    "        self.s = s\n",
    "\n",
    "s = Square(5)\n",
    "print(\"Area of square is {}\".format(s.area()))\n",
    "print(\"Permeter of square is {}\".format(s.perimeter()))"
   ]
  },
  {
   "cell_type": "markdown",
   "metadata": {},
   "source": [
    "## Built-in functions that work with inheritance\n",
    "issubclass(DerivedClass, BaseClass): returns True if DerivedClass is a subclass of the BaseClass\n",
    "\n",
    "isinstance(s, Class): returns True if s is an instance of Class or any of the derived classes of Class\n"
   ]
  },
  {
   "cell_type": "code",
   "execution_count": 59,
   "metadata": {},
   "outputs": [
    {
     "name": "stdout",
     "output_type": "stream",
     "text": "True\n"
    }
   ],
   "source": [
    "print(issubclass(Square, Rectangle))"
   ]
  },
  {
   "cell_type": "code",
   "execution_count": 60,
   "metadata": {},
   "outputs": [
    {
     "name": "stdout",
     "output_type": "stream",
     "text": "True\nFalse\n"
    }
   ],
   "source": [
    "r = Rectangle(3, 4)\n",
    "s = Square(2)\n",
    "print(isinstance(r, Rectangle))\n",
    "print(isinstance(r, Square))"
   ]
  },
  {
   "cell_type": "markdown",
   "metadata": {},
   "source": [
    "## Multiple Inheritance\n",
    "Python uses the *C3 linearization algorithm* to determine the order in which to resolve class attributes, including methods. This is known as the Method Resolution Order (MRO).\n"
   ]
  },
  {
   "cell_type": "code",
   "execution_count": 62,
   "metadata": {},
   "outputs": [
    {
     "name": "stdout",
     "output_type": "stream",
     "text": "attr foo of Foo\n[<class '__main__.FooBar'>, <class '__main__.Foo'>, <class '__main__.Bar'>, <class 'object'>]\n"
    }
   ],
   "source": [
    "class Foo(object):\n",
    "    foo = 'attr foo of Foo'\n",
    "\n",
    "class Bar(object):\n",
    "    foo = 'attr foo of Bar' # we won't see this.\n",
    "    bar = 'attr bar of Bar'\n",
    "\n",
    "class FooBar(Foo, Bar):\n",
    "    foobar = 'attr foobar of FooBar'\n",
    "\n",
    "fb = FooBar()\n",
    "print(fb.foo)\n",
    "print(FooBar.mro())"
   ]
  },
  {
   "cell_type": "code",
   "execution_count": 78,
   "metadata": {},
   "outputs": [
    {
     "name": "stdout",
     "output_type": "stream",
     "text": "foobar init\nfoo init\n"
    }
   ],
   "source": [
    "class Foo(object):\n",
    "    def __init__(self):\n",
    "        print(\"foo init\")\n",
    "\n",
    "class Bar(object):\n",
    "    def __init__(self):\n",
    "        print(\"bar init\")\n",
    "\n",
    "class FooBar(Foo, Bar):\n",
    "    def __init__(self):\n",
    "        print(\"foobar init\")\n",
    "        super(FooBar, self).__init__()\n",
    "        \n",
    "a = FooBar()"
   ]
  },
  {
   "cell_type": "markdown",
   "metadata": {},
   "source": [
    "It can be simply stated that Python's MRO algorithm is\n",
    "\n",
    "1. Depth first (e.g. FooBar then Foo) unless\n",
    "\n",
    "2. a shared parent (object) is blocked by a child (Bar) and\n",
    "\n",
    "3. no circular relationships allowed."
   ]
  },
  {
   "cell_type": "markdown",
   "metadata": {},
   "source": [
    "## Properties\n",
    "Python classes support properties, which look like regular object variables, but with the possibility of attaching\n",
    "custom behavior and documentation."
   ]
  },
  {
   "cell_type": "code",
   "execution_count": 67,
   "metadata": {},
   "outputs": [
    {
     "name": "stdout",
     "output_type": "stream",
     "text": "String!\n"
    }
   ],
   "source": [
    "class MyClass(object):\n",
    "    def __init__(self):\n",
    "        self._my_string = \"\"\n",
    "\n",
    "    @property\n",
    "    def string(self):\n",
    "        \"\"\"A profoundly important string.\"\"\"\n",
    "        return self._my_string\n",
    "\n",
    "    @string.setter\n",
    "    def string(self, new_value):\n",
    "        assert isinstance(new_value, str), \"Give me a string, not a %r!\" % type(new_value)\n",
    "        self._my_string = new_value\n",
    "\n",
    "mc = MyClass()\n",
    "mc.string = \"String!\"\n",
    "print(mc.string)"
   ]
  },
  {
   "cell_type": "markdown",
   "metadata": {},
   "source": [
    "## Default values for instance variables\n",
    "If the variable contains a value of an immutable type (e.g. a string) then it is okay to assign a default value like this"
   ]
  },
  {
   "cell_type": "code",
   "execution_count": 69,
   "metadata": {},
   "outputs": [
    {
     "name": "stdout",
     "output_type": "stream",
     "text": "blue\nred\n"
    }
   ],
   "source": [
    "class Rectangle(object):\n",
    "    def __init__(self, width, height, color='blue'):\n",
    "        self.width = width\n",
    "        self.height = height\n",
    "        self.color = color\n",
    "\n",
    "    def area(self):\n",
    "        return self.width * self.height\n",
    "        \n",
    "# Create some instances of the class\n",
    "default_rectangle = Rectangle(2, 3)\n",
    "print(default_rectangle.color) # blue\n",
    "red_rectangle = Rectangle(2, 3, 'red')\n",
    "print(red_rectangle.color) # red"
   ]
  },
  {
   "cell_type": "markdown",
   "metadata": {},
   "source": [
    "## Class and instance variables\n",
    "Instance variables are unique for each instance, while class variables are shared by all instances."
   ]
  },
  {
   "cell_type": "code",
   "execution_count": 73,
   "metadata": {},
   "outputs": [
    {
     "name": "stdout",
     "output_type": "stream",
     "text": "2\n2\n3\n2\n4\n"
    }
   ],
   "source": [
    "class C:\n",
    "    x = 2 # class variable\n",
    "    def __init__(self, y):\n",
    "        self.y = y # instance variable\n",
    "print(C.x)\n",
    "# print(C.y) # AttributeError: type object 'C' has no attribute 'y'\n",
    "\n",
    "c1 = C(3)\n",
    "print(c1.x)\n",
    "print(c1.y)\n",
    "\n",
    "c2 = C(4)\n",
    "print(c2.x)\n",
    "print(c2.y)"
   ]
  },
  {
   "cell_type": "markdown",
   "metadata": {},
   "source": [
    "## Listing All Class Members\n",
    "The dir() function can be used to get a list of the members of a class."
   ]
  },
  {
   "cell_type": "code",
   "execution_count": 75,
   "metadata": {},
   "outputs": [
    {
     "data": {
      "text/plain": "['__class__',\n '__delattr__',\n '__dict__',\n '__dir__',\n '__doc__',\n '__eq__',\n '__format__',\n '__ge__',\n '__getattribute__',\n '__gt__',\n '__hash__',\n '__init__',\n '__init_subclass__',\n '__le__',\n '__lt__',\n '__module__',\n '__ne__',\n '__new__',\n '__reduce__',\n '__reduce_ex__',\n '__repr__',\n '__setattr__',\n '__sizeof__',\n '__str__',\n '__subclasshook__',\n '__weakref__']"
     },
     "execution_count": 75,
     "metadata": {},
     "output_type": "execute_result"
    }
   ],
   "source": [
    "class Class:\n",
    "    pass\n",
    "dir(Class)"
   ]
  },
  {
   "cell_type": "markdown",
   "metadata": {},
   "source": [
    "It is common to look only for \"non-magic\" members. This can be done using a simple comprehension that listsmembers with names not starting with __:"
   ]
  },
  {
   "cell_type": "code",
   "execution_count": 77,
   "metadata": {},
   "outputs": [
    {
     "name": "stdout",
     "output_type": "stream",
     "text": "['append', 'clear', 'copy', 'count', 'extend', 'index', 'insert', 'pop', 'remove', 'reverse', 'sort']\n"
    }
   ],
   "source": [
    "print([m for m in dir(list) if not m.startswith('__')])"
   ]
  },
  {
   "cell_type": "markdown",
   "metadata": {},
   "source": [
    "## Abstract Base Class(ABC)\n",
    "Abstract classes are classes that are meant to be inherited but avoid implementing specific methods, leaving behind only method signatures that subclasses must implement."
   ]
  },
  {
   "cell_type": "code",
   "execution_count": 48,
   "metadata": {},
   "outputs": [
    {
     "ename": "NotImplementedError",
     "evalue": "check_ripeness method not implemented!",
     "output_type": "error",
     "traceback": [
      "\u001b[1;31m---------------------------------------------------------------------------\u001b[0m",
      "\u001b[1;31mNotImplementedError\u001b[0m                       Traceback (most recent call last)",
      "\u001b[1;32m<ipython-input-48-f6d4bb6da445>\u001b[0m in \u001b[0;36m<module>\u001b[1;34m\u001b[0m\n\u001b[0;32m      5\u001b[0m     \u001b[1;32mpass\u001b[0m\u001b[1;33m\u001b[0m\u001b[1;33m\u001b[0m\u001b[0m\n\u001b[0;32m      6\u001b[0m \u001b[0ma\u001b[0m \u001b[1;33m=\u001b[0m \u001b[0mApple\u001b[0m\u001b[1;33m(\u001b[0m\u001b[1;33m)\u001b[0m\u001b[1;33m\u001b[0m\u001b[1;33m\u001b[0m\u001b[0m\n\u001b[1;32m----> 7\u001b[1;33m \u001b[0ma\u001b[0m\u001b[1;33m.\u001b[0m\u001b[0mcheck_ripeness\u001b[0m\u001b[1;33m(\u001b[0m\u001b[1;33m)\u001b[0m\u001b[1;33m\u001b[0m\u001b[1;33m\u001b[0m\u001b[0m\n\u001b[0m",
      "\u001b[1;32m<ipython-input-48-f6d4bb6da445>\u001b[0m in \u001b[0;36mcheck_ripeness\u001b[1;34m(self)\u001b[0m\n\u001b[0;32m      1\u001b[0m \u001b[1;32mclass\u001b[0m \u001b[0mFruit\u001b[0m\u001b[1;33m:\u001b[0m\u001b[1;33m\u001b[0m\u001b[1;33m\u001b[0m\u001b[0m\n\u001b[0;32m      2\u001b[0m     \u001b[1;32mdef\u001b[0m \u001b[0mcheck_ripeness\u001b[0m\u001b[1;33m(\u001b[0m\u001b[0mself\u001b[0m\u001b[1;33m)\u001b[0m\u001b[1;33m:\u001b[0m\u001b[1;33m\u001b[0m\u001b[1;33m\u001b[0m\u001b[0m\n\u001b[1;32m----> 3\u001b[1;33m         \u001b[1;32mraise\u001b[0m \u001b[0mNotImplementedError\u001b[0m\u001b[1;33m(\u001b[0m\u001b[1;34m\"check_ripeness method not implemented!\"\u001b[0m\u001b[1;33m)\u001b[0m\u001b[1;33m\u001b[0m\u001b[1;33m\u001b[0m\u001b[0m\n\u001b[0m\u001b[0;32m      4\u001b[0m \u001b[1;32mclass\u001b[0m \u001b[0mApple\u001b[0m\u001b[1;33m(\u001b[0m\u001b[0mFruit\u001b[0m\u001b[1;33m)\u001b[0m\u001b[1;33m:\u001b[0m\u001b[1;33m\u001b[0m\u001b[1;33m\u001b[0m\u001b[0m\n\u001b[0;32m      5\u001b[0m     \u001b[1;32mpass\u001b[0m\u001b[1;33m\u001b[0m\u001b[1;33m\u001b[0m\u001b[0m\n",
      "\u001b[1;31mNotImplementedError\u001b[0m: check_ripeness method not implemented!"
     ]
    }
   ],
   "source": [
    "class Fruit:\n",
    "    def check_ripeness(self):\n",
    "        raise NotImplementedError(\"check_ripeness method not implemented!\")\n",
    "class Apple(Fruit):\n",
    "    pass\n",
    "a = Apple()\n",
    "a.check_ripeness()"
   ]
  },
  {
   "cell_type": "code",
   "execution_count": 45,
   "metadata": {},
   "outputs": [
    {
     "ename": "TypeError",
     "evalue": "Can't instantiate abstract class DoAdd42 with abstract methods do_something",
     "output_type": "error",
     "traceback": [
      "\u001b[1;31m---------------------------------------------------------------------------\u001b[0m",
      "\u001b[1;31mTypeError\u001b[0m                                 Traceback (most recent call last)",
      "\u001b[1;32m<ipython-input-45-6f39a84651bb>\u001b[0m in \u001b[0;36m<module>\u001b[1;34m\u001b[0m\n\u001b[0;32m     14\u001b[0m     \u001b[1;32mpass\u001b[0m\u001b[1;33m\u001b[0m\u001b[1;33m\u001b[0m\u001b[0m\n\u001b[0;32m     15\u001b[0m \u001b[1;33m\u001b[0m\u001b[0m\n\u001b[1;32m---> 16\u001b[1;33m \u001b[0mx\u001b[0m \u001b[1;33m=\u001b[0m \u001b[0mDoAdd42\u001b[0m\u001b[1;33m(\u001b[0m\u001b[1;36m4\u001b[0m\u001b[1;33m)\u001b[0m\u001b[1;33m\u001b[0m\u001b[1;33m\u001b[0m\u001b[0m\n\u001b[0m",
      "\u001b[1;31mTypeError\u001b[0m: Can't instantiate abstract class DoAdd42 with abstract methods do_something"
     ]
    }
   ],
   "source": [
    "from abc import ABC, abstractmethod\n",
    " \n",
    "class AbstractClassExample(ABC):\n",
    " \n",
    "    def __init__(self, value):\n",
    "        self.value = value\n",
    "        super().__init__()\n",
    "    \n",
    "    @abstractmethod\n",
    "    def do_something(self):\n",
    "        pass\n",
    "\n",
    "class DoAdd42(AbstractClassExample):\n",
    "    pass\n",
    "\n",
    "x = DoAdd42(4)"
   ]
  },
  {
   "cell_type": "code",
   "execution_count": 46,
   "metadata": {},
   "outputs": [
    {
     "name": "stdout",
     "output_type": "stream",
     "text": "52\n420\n"
    }
   ],
   "source": [
    "class DoAdd42(AbstractClassExample):\n",
    "\n",
    "    def do_something(self):\n",
    "        return self.value + 42\n",
    "    \n",
    "class DoMul42(AbstractClassExample):\n",
    "   \n",
    "    def do_something(self):\n",
    "        return self.value * 42\n",
    "    \n",
    "x = DoAdd42(10)\n",
    "y = DoMul42(10)\n",
    "\n",
    "print(x.do_something())\n",
    "print(y.do_something())"
   ]
  },
  {
   "cell_type": "markdown",
   "metadata": {},
   "source": [
    "## Set\n",
    "Sets are mutable and unordered collections of unique objects."
   ]
  },
  {
   "cell_type": "code",
   "execution_count": 14,
   "metadata": {},
   "outputs": [
    {
     "name": "stdout",
     "output_type": "stream",
     "text": "{'apple', 'pear', 'orange', 'banana'}\n"
    }
   ],
   "source": [
    "basket = {'apple', 'orange','apple', 'pear', 'orange', 'banana'}\n",
    "print(basket)"
   ]
  },
  {
   "cell_type": "code",
   "execution_count": 17,
   "metadata": {},
   "outputs": [
    {
     "name": "stdout",
     "output_type": "stream",
     "text": "{'r', 'b', 'a', 'c', 'd'}\n"
    }
   ],
   "source": [
    "a = set('abracadabra')\n",
    "print(a)"
   ]
  },
  {
   "cell_type": "code",
   "execution_count": 18,
   "metadata": {},
   "outputs": [
    {
     "name": "stdout",
     "output_type": "stream",
     "text": "{'r', 'b', 'a', 'c', 'd', 'z'}\n"
    }
   ],
   "source": [
    "a.add('z')\n",
    "print(a)"
   ]
  },
  {
   "cell_type": "code",
   "execution_count": 29,
   "metadata": {},
   "outputs": [
    {
     "name": "stdout",
     "output_type": "stream",
     "text": "{'b', 'a', 'c', 'd', 'z'}\n"
    }
   ],
   "source": [
    "a.discard('r')\n",
    "print(a)"
   ]
  },
  {
   "cell_type": "markdown",
   "metadata": {},
   "source": [
    "## Frozen Sets\n",
    "They are immutable and new elements cannot added after its defined."
   ]
  },
  {
   "cell_type": "code",
   "execution_count": 20,
   "metadata": {},
   "outputs": [
    {
     "name": "stdout",
     "output_type": "stream",
     "text": "frozenset({'f', 's', 'a', 'd', 'g'})\nfrozenset({'Frankfurt', 'Basel', 'Freiburg'})\n"
    }
   ],
   "source": [
    "b = frozenset('asdfagsa')\n",
    "print(b)\n",
    "cities = frozenset([\"Frankfurt\", \"Basel\",\"Freiburg\"])\n",
    "print(cities)"
   ]
  },
  {
   "cell_type": "markdown",
   "metadata": {},
   "source": [
    "##  Operations on sets"
   ]
  },
  {
   "cell_type": "code",
   "execution_count": 21,
   "metadata": {},
   "outputs": [
    {
     "name": "stdout",
     "output_type": "stream",
     "text": "{3, 4, 5}\n"
    }
   ],
   "source": [
    "# Intersection\n",
    "{1, 2, 3, 4, 5}.intersection({3, 4, 5, 6})\n",
    "print({1, 2, 3, 4, 5} & {3, 4, 5, 6})"
   ]
  },
  {
   "cell_type": "code",
   "execution_count": 22,
   "metadata": {},
   "outputs": [
    {
     "name": "stdout",
     "output_type": "stream",
     "text": "{1, 2, 3, 4, 5, 6}\n{1, 2, 3, 4, 5, 6}\n"
    }
   ],
   "source": [
    "# Union\n",
    "print({1, 2, 3, 4, 5}.union({3, 4, 5, 6}))\n",
    "print({1, 2, 3, 4, 5} | {3, 4, 5, 6})"
   ]
  },
  {
   "cell_type": "code",
   "execution_count": 23,
   "metadata": {},
   "outputs": [
    {
     "name": "stdout",
     "output_type": "stream",
     "text": "{1, 4}\n{1, 4}\n"
    }
   ],
   "source": [
    "# Difference\n",
    "print({1, 2, 3, 4}.difference({2, 3, 5}))\n",
    "print({1, 2, 3, 4} - {2, 3, 5})"
   ]
  },
  {
   "cell_type": "code",
   "execution_count": 24,
   "metadata": {},
   "outputs": [
    {
     "name": "stdout",
     "output_type": "stream",
     "text": "{1, 4, 5}\n{1, 4, 5}\n"
    }
   ],
   "source": [
    "# Symmetric difference with\n",
    "print({1, 2, 3, 4}.symmetric_difference({2, 3, 5}))\n",
    "print({1, 2, 3, 4} ^ {2, 3, 5})"
   ]
  },
  {
   "cell_type": "code",
   "execution_count": 25,
   "metadata": {},
   "outputs": [
    {
     "name": "stdout",
     "output_type": "stream",
     "text": "False\nFalse\n"
    }
   ],
   "source": [
    "# Superset check\n",
    "print({1, 2}.issuperset({1, 2, 3}))\n",
    "print({1, 2} >= {1, 2, 3})"
   ]
  },
  {
   "cell_type": "code",
   "execution_count": 27,
   "metadata": {},
   "outputs": [
    {
     "name": "stdout",
     "output_type": "stream",
     "text": "True\nTrue\n"
    }
   ],
   "source": [
    "# Subset check\n",
    "print({1, 2}.issubset({1, 2, 3}))\n",
    "print({1, 2} <= {1, 2, 3})"
   ]
  },
  {
   "cell_type": "code",
   "execution_count": 28,
   "metadata": {},
   "outputs": [
    {
     "name": "stdout",
     "output_type": "stream",
     "text": "True\nFalse\n"
    }
   ],
   "source": [
    "# Disjoint check\n",
    "print({1, 2}.isdisjoint({3, 4}))\n",
    "print({1, 2}.isdisjoint({1, 4}))"
   ]
  },
  {
   "cell_type": "markdown",
   "metadata": {},
   "source": [
    "### Set of Sets"
   ]
  },
  {
   "cell_type": "code",
   "execution_count": 30,
   "metadata": {},
   "outputs": [
    {
     "ename": "TypeError",
     "evalue": "unhashable type: 'set'",
     "output_type": "error",
     "traceback": [
      "\u001b[1;31m---------------------------------------------------------------------------\u001b[0m",
      "\u001b[1;31mTypeError\u001b[0m                                 Traceback (most recent call last)",
      "\u001b[1;32m<ipython-input-30-0c0611f4c602>\u001b[0m in \u001b[0;36m<module>\u001b[1;34m\u001b[0m\n\u001b[1;32m----> 1\u001b[1;33m \u001b[0mprint\u001b[0m\u001b[1;33m(\u001b[0m\u001b[1;33m{\u001b[0m\u001b[1;33m{\u001b[0m\u001b[1;36m1\u001b[0m\u001b[1;33m,\u001b[0m\u001b[1;36m2\u001b[0m\u001b[1;33m}\u001b[0m\u001b[1;33m,\u001b[0m \u001b[1;33m{\u001b[0m\u001b[1;36m3\u001b[0m\u001b[1;33m,\u001b[0m\u001b[1;36m4\u001b[0m\u001b[1;33m}\u001b[0m\u001b[1;33m}\u001b[0m\u001b[1;33m)\u001b[0m\u001b[1;33m\u001b[0m\u001b[1;33m\u001b[0m\u001b[0m\n\u001b[0m",
      "\u001b[1;31mTypeError\u001b[0m: unhashable type: 'set'"
     ]
    }
   ],
   "source": [
    "print({{1,2}, {3,4}})"
   ]
  },
  {
   "cell_type": "code",
   "execution_count": 31,
   "metadata": {},
   "outputs": [
    {
     "name": "stdout",
     "output_type": "stream",
     "text": "{frozenset({3, 4}), frozenset({1, 2})}\n"
    }
   ],
   "source": [
    "# Instead, use frozenset:\n",
    "print({frozenset({1, 2}), frozenset({3, 4})})"
   ]
  },
  {
   "cell_type": "markdown",
   "metadata": {},
   "source": [
    "## Disjoint sets\n",
    "Sets a and d are disjoint if no element in a is also in d and vice versa."
   ]
  },
  {
   "cell_type": "code",
   "execution_count": 34,
   "metadata": {},
   "outputs": [
    {
     "name": "stdout",
     "output_type": "stream",
     "text": "False\nTrue\n"
    }
   ],
   "source": [
    "a = {1, 2, 2, 3, 4}\n",
    "b = {3, 3, 4, 4, 5}\n",
    "d = {5, 6}\n",
    "print(a.isdisjoint(b))\n",
    "print(a.isdisjoint(d))"
   ]
  },
  {
   "cell_type": "markdown",
   "metadata": {},
   "source": [
    "## ENUM\n",
    "\n",
    "Enum is a class in python for creating enumerations, which are a set of symbolic names (members) bound to unique, constant values."
   ]
  },
  {
   "cell_type": "code",
   "execution_count": 1,
   "metadata": {},
   "outputs": [
    {
     "name": "stdout",
     "output_type": "stream",
     "text": "The enum member as a string is : Days.Mon\nhe enum member as a repr is : <Days.Sun: 1>\nThe type of enum member is : <enum 'Days'>\nThe name of enum member is : Tue\n"
    }
   ],
   "source": [
    "import enum\n",
    "# Using enum class create enumerations\n",
    "class Days(enum.Enum):\n",
    "   Sun = 1\n",
    "   Mon = 2\n",
    "   Tue = 3\n",
    "# print the enum member as a string\n",
    "print (\"The enum member as a string is : \",end=\"\")\n",
    "print (Days.Mon)\n",
    "\n",
    "# print the enum member as a repr\n",
    "print (\"he enum member as a repr is : \",end=\"\")\n",
    "print (repr(Days.Sun))\n",
    "\n",
    "# Check type of enum member\n",
    "print (\"The type of enum member is : \",end =\"\")\n",
    "print (type(Days.Mon))\n",
    "\n",
    "# print name of enum member\n",
    "print (\"The name of enum member is : \",end =\"\")\n",
    "print (Days.Tue.name)"
   ]
  },
  {
   "cell_type": "markdown",
   "metadata": {},
   "source": [
    "## Printing enum as an iterable\n",
    "We can print the enum as an iterable list. In the below code we use a for loop to print all enum members."
   ]
  },
  {
   "cell_type": "code",
   "execution_count": 2,
   "metadata": {},
   "outputs": [
    {
     "name": "stdout",
     "output_type": "stream",
     "text": "The enum members are : \nDays.Sun\nDays.Mon\nDays.Tue\n"
    }
   ],
   "source": [
    "import enum\n",
    "# Using enum class create enumerations\n",
    "class Days(enum.Enum):\n",
    "   Sun = 1\n",
    "   Mon = 2\n",
    "   Tue = 3\n",
    "# printing all enum members using loop\n",
    "print (\"The enum members are : \")\n",
    "for weekday in (Days):\n",
    "   print(weekday)"
   ]
  },
  {
   "cell_type": "markdown",
   "metadata": {},
   "source": [
    "## IntEnum\n",
    "Base class for creating enumerated constants that are also subclasses of int."
   ]
  },
  {
   "cell_type": "code",
   "execution_count": 5,
   "metadata": {},
   "outputs": [
    {
     "name": "stdout",
     "output_type": "stream",
     "text": "False\nTrue\nTrue\n"
    }
   ],
   "source": [
    "from enum import IntEnum\n",
    "\n",
    "class Shape(IntEnum):\n",
    "    CIRCLE = 1\n",
    "    SQUARE = 2\n",
    "\n",
    "class Request(IntEnum):\n",
    "    POST = 1\n",
    "    GET = 2\n",
    "\n",
    "print(Shape.SQUARE == 1)\n",
    "print(Shape.CIRCLE == 1)\n",
    "print(Shape.CIRCLE == Request.POST)"
   ]
  },
  {
   "cell_type": "markdown",
   "metadata": {},
   "source": [
    "## IntFlag\n",
    "The next variation of Enum provided, IntFlag, is also based on int. The difference being IntFlag members can be combined using the bitwise operators (&, |, ^, ~) and the result is still an IntFlag member."
   ]
  },
  {
   "cell_type": "code",
   "execution_count": 7,
   "metadata": {},
   "outputs": [
    {
     "name": "stdout",
     "output_type": "stream",
     "text": "Perm.R|W\n6\nTrue\n"
    }
   ],
   "source": [
    "from enum import IntFlag\n",
    "class Perm(IntFlag):\n",
    "    R = 4\n",
    "    W = 2\n",
    "    X = 1\n",
    "\n",
    "print(Perm.R | Perm.W)\n",
    "print(Perm.R + Perm.W)\n",
    "RW = Perm.R | Perm.W\n",
    "print(Perm.R in RW)"
   ]
  },
  {
   "cell_type": "markdown",
   "metadata": {},
   "source": [
    "## Flag\n",
    "The last variation is Flag. Like IntFlag, Flag members can be combined using the bitwise operators (&, |, ^, ~). Unlike IntFlag, they cannot be combined with, nor compared against, any other Flag enumeration, nor int."
   ]
  },
  {
   "cell_type": "code",
   "execution_count": 13,
   "metadata": {},
   "outputs": [
    {
     "name": "stdout",
     "output_type": "stream",
     "text": "Color.0\nFalse\nFalse\n"
    }
   ],
   "source": [
    "from enum import Flag, auto\n",
    "class Color(Flag):\n",
    "    RED = auto()\n",
    "    BLUE = auto()\n",
    "    GREEN = auto()\n",
    "\n",
    "print(Color.RED & Color.GREEN)\n",
    "print(bool(Color.RED & Color.GREEN))"
   ]
  },
  {
   "cell_type": "markdown",
   "metadata": {},
   "source": [
    "## Variable Scope and Binding\n",
    "### Nonlocal Variables\n",
    "Python 3 added a new keyword called nonlocal. Nonlocal variable are used in nested function whose local scope is not defined. This means, the variable can be neither in the local nor the global scope."
   ]
  },
  {
   "cell_type": "code",
   "execution_count": 80,
   "metadata": {},
   "outputs": [
    {
     "ename": "UnboundLocalError",
     "evalue": "local variable 'num' referenced before assignment",
     "output_type": "error",
     "traceback": [
      "\u001b[1;31m---------------------------------------------------------------------------\u001b[0m",
      "\u001b[1;31mUnboundLocalError\u001b[0m                         Traceback (most recent call last)",
      "\u001b[1;32m<ipython-input-80-fffa4333e26b>\u001b[0m in \u001b[0;36m<module>\u001b[1;34m\u001b[0m\n\u001b[0;32m      6\u001b[0m     \u001b[1;32mreturn\u001b[0m \u001b[0mincrementer\u001b[0m\u001b[1;33m\u001b[0m\u001b[1;33m\u001b[0m\u001b[0m\n\u001b[0;32m      7\u001b[0m \u001b[0mc\u001b[0m \u001b[1;33m=\u001b[0m \u001b[0mcounter\u001b[0m\u001b[1;33m(\u001b[0m\u001b[1;33m)\u001b[0m\u001b[1;33m\u001b[0m\u001b[1;33m\u001b[0m\u001b[0m\n\u001b[1;32m----> 8\u001b[1;33m \u001b[0mc\u001b[0m\u001b[1;33m(\u001b[0m\u001b[1;33m)\u001b[0m\u001b[1;33m\u001b[0m\u001b[1;33m\u001b[0m\u001b[0m\n\u001b[0m",
      "\u001b[1;32m<ipython-input-80-fffa4333e26b>\u001b[0m in \u001b[0;36mincrementer\u001b[1;34m()\u001b[0m\n\u001b[0;32m      2\u001b[0m     \u001b[0mnum\u001b[0m \u001b[1;33m=\u001b[0m \u001b[1;36m0\u001b[0m\u001b[1;33m\u001b[0m\u001b[1;33m\u001b[0m\u001b[0m\n\u001b[0;32m      3\u001b[0m     \u001b[1;32mdef\u001b[0m \u001b[0mincrementer\u001b[0m\u001b[1;33m(\u001b[0m\u001b[1;33m)\u001b[0m\u001b[1;33m:\u001b[0m\u001b[1;33m\u001b[0m\u001b[1;33m\u001b[0m\u001b[0m\n\u001b[1;32m----> 4\u001b[1;33m         \u001b[0mnum\u001b[0m \u001b[1;33m+=\u001b[0m \u001b[1;36m1\u001b[0m\u001b[1;33m\u001b[0m\u001b[1;33m\u001b[0m\u001b[0m\n\u001b[0m\u001b[0;32m      5\u001b[0m         \u001b[1;32mreturn\u001b[0m \u001b[0mnum\u001b[0m\u001b[1;33m\u001b[0m\u001b[1;33m\u001b[0m\u001b[0m\n\u001b[0;32m      6\u001b[0m     \u001b[1;32mreturn\u001b[0m \u001b[0mincrementer\u001b[0m\u001b[1;33m\u001b[0m\u001b[1;33m\u001b[0m\u001b[0m\n",
      "\u001b[1;31mUnboundLocalError\u001b[0m: local variable 'num' referenced before assignment"
     ]
    }
   ],
   "source": [
    "def counter():\n",
    "    num = 0\n",
    "    def incrementer():\n",
    "        num += 1\n",
    "        return num\n",
    "    return incrementer\n",
    "c = counter()\n",
    "c()"
   ]
  },
  {
   "cell_type": "code",
   "execution_count": 82,
   "metadata": {},
   "outputs": [
    {
     "name": "stdout",
     "output_type": "stream",
     "text": "1\n2\n3\n"
    }
   ],
   "source": [
    "def counter():\n",
    "    num = 0\n",
    "    def incrementer():\n",
    "        nonlocal num\n",
    "        num += 1\n",
    "        return num\n",
    "    return incrementer\n",
    "c = counter()\n",
    "print(c())\n",
    "print(c())\n",
    "print(c())"
   ]
  },
  {
   "cell_type": "markdown",
   "metadata": {},
   "source": [
    "### Global Variables\n",
    "In Python, a variable declared outside of the function or in global scope is known as global variable. This means, global variable can be accessed inside or outside of the function."
   ]
  },
  {
   "cell_type": "code",
   "execution_count": 83,
   "metadata": {},
   "outputs": [
    {
     "name": "stdout",
     "output_type": "stream",
     "text": "x inside : global\nx outside: global\n"
    }
   ],
   "source": [
    "x = \"global\"\n",
    "\n",
    "def foo():\n",
    "    print(\"x inside :\", x)\n",
    "\n",
    "foo()\n",
    "print(\"x outside:\", x)"
   ]
  },
  {
   "cell_type": "code",
   "execution_count": 84,
   "metadata": {},
   "outputs": [
    {
     "ename": "UnboundLocalError",
     "evalue": "local variable 'x' referenced before assignment",
     "output_type": "error",
     "traceback": [
      "\u001b[1;31m---------------------------------------------------------------------------\u001b[0m",
      "\u001b[1;31mUnboundLocalError\u001b[0m                         Traceback (most recent call last)",
      "\u001b[1;32m<ipython-input-84-c2736b3017fc>\u001b[0m in \u001b[0;36m<module>\u001b[1;34m\u001b[0m\n\u001b[0;32m      4\u001b[0m     \u001b[0mx\u001b[0m \u001b[1;33m=\u001b[0m \u001b[0mx\u001b[0m \u001b[1;33m*\u001b[0m \u001b[1;36m2\u001b[0m\u001b[1;33m\u001b[0m\u001b[1;33m\u001b[0m\u001b[0m\n\u001b[0;32m      5\u001b[0m     \u001b[0mprint\u001b[0m\u001b[1;33m(\u001b[0m\u001b[0mx\u001b[0m\u001b[1;33m)\u001b[0m\u001b[1;33m\u001b[0m\u001b[1;33m\u001b[0m\u001b[0m\n\u001b[1;32m----> 6\u001b[1;33m \u001b[0mfoo\u001b[0m\u001b[1;33m(\u001b[0m\u001b[1;33m)\u001b[0m\u001b[1;33m\u001b[0m\u001b[1;33m\u001b[0m\u001b[0m\n\u001b[0m",
      "\u001b[1;32m<ipython-input-84-c2736b3017fc>\u001b[0m in \u001b[0;36mfoo\u001b[1;34m()\u001b[0m\n\u001b[0;32m      2\u001b[0m \u001b[1;33m\u001b[0m\u001b[0m\n\u001b[0;32m      3\u001b[0m \u001b[1;32mdef\u001b[0m \u001b[0mfoo\u001b[0m\u001b[1;33m(\u001b[0m\u001b[1;33m)\u001b[0m\u001b[1;33m:\u001b[0m\u001b[1;33m\u001b[0m\u001b[1;33m\u001b[0m\u001b[0m\n\u001b[1;32m----> 4\u001b[1;33m     \u001b[0mx\u001b[0m \u001b[1;33m=\u001b[0m \u001b[0mx\u001b[0m \u001b[1;33m*\u001b[0m \u001b[1;36m2\u001b[0m\u001b[1;33m\u001b[0m\u001b[1;33m\u001b[0m\u001b[0m\n\u001b[0m\u001b[0;32m      5\u001b[0m     \u001b[0mprint\u001b[0m\u001b[1;33m(\u001b[0m\u001b[0mx\u001b[0m\u001b[1;33m)\u001b[0m\u001b[1;33m\u001b[0m\u001b[1;33m\u001b[0m\u001b[0m\n\u001b[0;32m      6\u001b[0m \u001b[0mfoo\u001b[0m\u001b[1;33m(\u001b[0m\u001b[1;33m)\u001b[0m\u001b[1;33m\u001b[0m\u001b[1;33m\u001b[0m\u001b[0m\n",
      "\u001b[1;31mUnboundLocalError\u001b[0m: local variable 'x' referenced before assignment"
     ]
    }
   ],
   "source": [
    "x = \"global\"\n",
    "\n",
    "def foo():\n",
    "    x = x * 2\n",
    "    print(x)\n",
    "foo()"
   ]
  },
  {
   "cell_type": "markdown",
   "metadata": {},
   "source": [
    "The output above shows an error because Python treats x as a local variable and x is also not defined inside foo(). To make this work we use global keyword"
   ]
  },
  {
   "cell_type": "code",
   "execution_count": 85,
   "metadata": {},
   "outputs": [
    {
     "name": "stdout",
     "output_type": "stream",
     "text": "globalglobal\n"
    }
   ],
   "source": [
    "x = \"global\"\n",
    "\n",
    "def foo():\n",
    "    global x\n",
    "    x = x * 2\n",
    "    print(x)\n",
    "foo()"
   ]
  },
  {
   "cell_type": "markdown",
   "metadata": {},
   "source": [
    "### What happens with name clashes?\n"
   ]
  },
  {
   "cell_type": "code",
   "execution_count": 89,
   "metadata": {},
   "outputs": [
    {
     "name": "stdout",
     "output_type": "stream",
     "text": "2\n1\n2\n"
    }
   ],
   "source": [
    "foo = 1\n",
    "def func():\n",
    "    foo = 2 # creates a new variable foo in local scope, global foo is not affected\n",
    "    print(foo) # prints 2\n",
    "    # global variable foo still exists, unchanged:\n",
    "    print(globals()['foo']) # prints 1\n",
    "    print(locals()['foo']) # prints 2\n",
    "func()"
   ]
  },
  {
   "cell_type": "code",
   "execution_count": null,
   "metadata": {},
   "outputs": [],
   "source": []
  }
 ]
}